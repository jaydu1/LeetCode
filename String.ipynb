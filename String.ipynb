{
 "cells": [
  {
   "cell_type": "markdown",
   "metadata": {},
   "source": [
    "# 14. Longest Common Prefix (Easy)\n",
    "\n",
    "Write a function to find the longest common prefix string amongst an array of strings.\n",
    "\n",
    "If there is no common prefix, return an empty string \"\".\n",
    "\n",
    "**Example 1**:\n",
    "\n",
    "    Input: [\"flower\",\"flow\",\"flight\"]\n",
    "    Output: \"fl\"\n",
    "    Example 2:\n",
    "\n",
    "    Input: [\"dog\",\"racecar\",\"car\"]\n",
    "    Output: \"\"\n",
    "    Explanation: There is no common prefix among the input strings.\n",
    "    Note:\n",
    "\n",
    "All given inputs are in lowercase letters a-z."
   ]
  },
  {
   "cell_type": "code",
   "execution_count": null,
   "metadata": {},
   "outputs": [],
   "source": [
    "class Solution:\n",
    "    def longestCommonPrefix(self, strs: List[str]) -> str:\n",
    "        n = len(strs)\n",
    "        res = \"\"\n",
    "        \n",
    "        # Deal with special cases\n",
    "        if n==0:\n",
    "            return res\n",
    "            \n",
    "        l = [len(i) for i in strs]\n",
    "        minl = min(l)\n",
    "        if minl==0:\n",
    "            return res\n",
    "        \n",
    "        for j in range(minl):\n",
    "            for i in range(1, n):\n",
    "                if strs[i][j]!=strs[0][j]:\n",
    "                    return res\n",
    "            res += strs[0][j]\n",
    "            \n",
    "        return res"
   ]
  },
  {
   "cell_type": "markdown",
   "metadata": {},
   "source": [
    "**扩展**：\n",
    "\n",
    "1. 给定一个目标串和一个字符串的集合，问目标串是否是集合中所有串的公共子串\n",
    "2. 给定一个字符串的集合，求所有串的最长公共子串，题目限制所有字符串长度均小于100"
   ]
  },
  {
   "cell_type": "markdown",
   "metadata": {},
   "source": [
    "# 20. Valid Parentheses (Easy)\n",
    "\n",
    "Given a string containing just the characters '(', ')', '{', '}', '[' and ']', determine if the input string is valid.\n",
    "\n",
    "An input string is valid if:\n",
    "\n",
    "Open brackets must be closed by the same type of brackets.\n",
    "Open brackets must be closed in the correct order.\n",
    "Note that an empty string is also considered valid.\n",
    "\n",
    "**Example 1**:\n",
    "\n",
    "    Input: \"()\"\n",
    "    Output: true\n",
    "**Example 2**:\n",
    "\n",
    "    Input: \"()[]{}\"\n",
    "    Output: true\n",
    "**Example 3**:\n",
    "\n",
    "    Input: \"(]\"\n",
    "    Output: false\n",
    "**Example 4**:\n",
    "\n",
    "    Input: \"([)]\"\n",
    "    Output: false\n",
    "**Example 5**:\n",
    "\n",
    "    Input: \"{[]}\"\n",
    "    Output: true"
   ]
  },
  {
   "cell_type": "code",
   "execution_count": null,
   "metadata": {},
   "outputs": [],
   "source": [
    "class Solution:\n",
    "    def isValid(self, s: str) -> bool:\n",
    "        stack = []\n",
    "        left = {'(':0, '{':1, '[':2}\n",
    "        right = {')':0, '}':1, ']':2}\n",
    "        \n",
    "        # Deal with special cases\n",
    "        if len(s)==0:\n",
    "            return True\n",
    "        elif (s[0] not in left.keys()) or len(s)%2==1:\n",
    "            return False\n",
    "        \n",
    "        # Match\n",
    "        for i in s:\n",
    "            if i in left.keys():\n",
    "                stack.append(i)\n",
    "            elif len(stack)==0:\n",
    "                    return False\n",
    "            else:\n",
    "                j = stack.pop()\n",
    "                if left[j]!=right[i]:\n",
    "                    return False\n",
    "                \n",
    "        if len(stack)>0:\n",
    "            # If the stack isn't empty\n",
    "            return False\n",
    "        else:\n",
    "            return True"
   ]
  },
  {
   "cell_type": "markdown",
   "metadata": {},
   "source": [
    "**扩展**\n",
    "\n",
    "1. 计算算术表达式的值(含有数字，+-*/()^) \n",
    "2. 问最少删多少括号，使括号序列合法。 \n",
    "3. 问最少添加多少括号，使括号序列合法 \n",
    "4. 用两个栈实现队列"
   ]
  },
  {
   "cell_type": "code",
   "execution_count": null,
   "metadata": {},
   "outputs": [],
   "source": []
  }
 ],
 "metadata": {
  "hide_input": false,
  "kernelspec": {
   "display_name": "Python 3",
   "language": "python",
   "name": "python3"
  },
  "language_info": {
   "codemirror_mode": {
    "name": "ipython",
    "version": 3
   },
   "file_extension": ".py",
   "mimetype": "text/x-python",
   "name": "python",
   "nbconvert_exporter": "python",
   "pygments_lexer": "ipython3",
   "version": "3.6.7"
  },
  "latex_envs": {
   "LaTeX_envs_menu_present": true,
   "autoclose": false,
   "autocomplete": true,
   "bibliofile": "biblio.bib",
   "cite_by": "apalike",
   "current_citInitial": 1,
   "eqLabelWithNumbers": true,
   "eqNumInitial": 1,
   "hotkeys": {
    "equation": "Ctrl-E",
    "itemize": "Ctrl-I"
   },
   "labels_anchors": false,
   "latex_user_defs": false,
   "report_style_numbering": false,
   "user_envs_cfg": false
  },
  "toc": {
   "base_numbering": 1,
   "nav_menu": {},
   "number_sections": true,
   "sideBar": true,
   "skip_h1_title": false,
   "title_cell": "Table of Contents",
   "title_sidebar": "Contents",
   "toc_cell": false,
   "toc_position": {},
   "toc_section_display": true,
   "toc_window_display": false
  },
  "varInspector": {
   "cols": {
    "lenName": 16,
    "lenType": 16,
    "lenVar": 40
   },
   "kernels_config": {
    "python": {
     "delete_cmd_postfix": "",
     "delete_cmd_prefix": "del ",
     "library": "var_list.py",
     "varRefreshCmd": "print(var_dic_list())"
    },
    "r": {
     "delete_cmd_postfix": ") ",
     "delete_cmd_prefix": "rm(",
     "library": "var_list.r",
     "varRefreshCmd": "cat(var_dic_list()) "
    }
   },
   "types_to_exclude": [
    "module",
    "function",
    "builtin_function_or_method",
    "instance",
    "_Feature"
   ],
   "window_display": false
  }
 },
 "nbformat": 4,
 "nbformat_minor": 2
}
