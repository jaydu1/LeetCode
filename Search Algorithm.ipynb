{
 "cells": [
  {
   "cell_type": "markdown",
   "metadata": {},
   "source": [
    "# 查找\n",
    "## 基本概念\n",
    "查找（Searching）就是根据给定的某个值，在查找表中确定一个其关键字等于给定值的数据元素（或记录）。\n",
    "\n",
    "查找表（Search Table）：由同一类型的数据元素（或记录）构成的集合。\n",
    "关键字（Key）：数据元素中某个数据项的值，又称为键值。\n",
    "主键（Primary Key）：可唯一地标识某个数据元素或记录的关键字。"
   ]
  },
  {
   "cell_type": "markdown",
   "metadata": {},
   "source": [
    "# 无序表查找\n",
    "遍历数据元素，或者先排序再查找。"
   ]
  },
  {
   "cell_type": "markdown",
   "metadata": {},
   "source": [
    "# 有序表查找"
   ]
  },
  {
   "cell_type": "markdown",
   "metadata": {},
   "source": [
    "## 二分查找（Binary Search）"
   ]
  },
  {
   "cell_type": "markdown",
   "metadata": {},
   "source": [
    "## 插值查找"
   ]
  },
  {
   "cell_type": "markdown",
   "metadata": {},
   "source": [
    "## 斐波那契查找"
   ]
  },
  {
   "cell_type": "markdown",
   "metadata": {},
   "source": [
    "# 线性索引查找"
   ]
  },
  {
   "cell_type": "markdown",
   "metadata": {},
   "source": [
    "# 二叉数查找"
   ]
  },
  {
   "cell_type": "markdown",
   "metadata": {},
   "source": [
    "## 二叉排序树"
   ]
  },
  {
   "cell_type": "markdown",
   "metadata": {},
   "source": [
    "## 平衡二叉树"
   ]
  },
  {
   "cell_type": "markdown",
   "metadata": {},
   "source": [
    "## 多路查找树（B树）"
   ]
  },
  {
   "cell_type": "markdown",
   "metadata": {},
   "source": [
    "# 散列表查找"
   ]
  },
  {
   "cell_type": "code",
   "execution_count": 2,
   "metadata": {},
   "outputs": [
    {
     "name": "stdout",
     "output_type": "stream",
     "text": [
      "(12, 0) (25, 1) (37, 2) (15, 3) (16, 4) (29, 5) (48, 6) (67, 7) (56, 8) (34, 9) (22, 10) (47, 11) \n",
      "\n",
      "3\n",
      "-1\n"
     ]
    }
   ],
   "source": [
    "class HashTable:\n",
    "    def __init__(self, size):\n",
    "        self.elem = [None for i in range(size)]  # 使用list数据结构作为哈希表元素保存方法\n",
    "        self.count = size  # 最大表长\n",
    "\n",
    "    def hash(self, key):\n",
    "        return key % self.count  # 散列函数采用除留余数法\n",
    "\n",
    "    def insert_hash(self, key):\n",
    "        \"\"\"插入关键字到哈希表内\"\"\"\n",
    "        address = self.hash(key)  # 求散列地址\n",
    "        while self.elem[address]:  # 当前位置已经有数据了，发生冲突。\n",
    "            address = (address+1) % self.count  # 线性探测下一地址是否可用\n",
    "        self.elem[address] = key  # 没有冲突则直接保存。\n",
    "\n",
    "    def search_hash(self, key):\n",
    "        \"\"\"查找关键字，返回布尔值\"\"\"\n",
    "        star = address = self.hash(key)\n",
    "        while self.elem[address] != key:\n",
    "            address = (address + 1) % self.count\n",
    "            if not self.elem[address] or address == star:  # 说明没找到或者循环到了开始的位置\n",
    "                return -1\n",
    "        return address\n",
    "\n",
    "list_a = [12, 67, 56, 16, 25, 37, 22, 29, 15, 47, 48, 34]\n",
    "hash_table = HashTable(12)\n",
    "for i in list_a:\n",
    "    hash_table.insert_hash(i)\n",
    "\n",
    "for i in hash_table.elem:\n",
    "    if i:\n",
    "        print((i, hash_table.elem.index(i)), end=\" \")\n",
    "print(\"\\n\")\n",
    "\n",
    "print(hash_table.search_hash(15))\n",
    "print(hash_table.search_hash(33))"
   ]
  }
 ],
 "metadata": {
  "hide_input": false,
  "kernelspec": {
   "display_name": "Python 3",
   "language": "python",
   "name": "python3"
  },
  "language_info": {
   "codemirror_mode": {
    "name": "ipython",
    "version": 3
   },
   "file_extension": ".py",
   "mimetype": "text/x-python",
   "name": "python",
   "nbconvert_exporter": "python",
   "pygments_lexer": "ipython3",
   "version": "3.6.7"
  },
  "latex_envs": {
   "LaTeX_envs_menu_present": true,
   "autoclose": false,
   "autocomplete": true,
   "bibliofile": "biblio.bib",
   "cite_by": "apalike",
   "current_citInitial": 1,
   "eqLabelWithNumbers": true,
   "eqNumInitial": 1,
   "hotkeys": {
    "equation": "Ctrl-E",
    "itemize": "Ctrl-I"
   },
   "labels_anchors": false,
   "latex_user_defs": false,
   "report_style_numbering": false,
   "user_envs_cfg": false
  },
  "toc": {
   "base_numbering": 1,
   "nav_menu": {},
   "number_sections": true,
   "sideBar": true,
   "skip_h1_title": false,
   "title_cell": "Table of Contents",
   "title_sidebar": "Contents",
   "toc_cell": false,
   "toc_position": {},
   "toc_section_display": true,
   "toc_window_display": false
  },
  "varInspector": {
   "cols": {
    "lenName": 16,
    "lenType": 16,
    "lenVar": 40
   },
   "kernels_config": {
    "python": {
     "delete_cmd_postfix": "",
     "delete_cmd_prefix": "del ",
     "library": "var_list.py",
     "varRefreshCmd": "print(var_dic_list())"
    },
    "r": {
     "delete_cmd_postfix": ") ",
     "delete_cmd_prefix": "rm(",
     "library": "var_list.r",
     "varRefreshCmd": "cat(var_dic_list()) "
    }
   },
   "types_to_exclude": [
    "module",
    "function",
    "builtin_function_or_method",
    "instance",
    "_Feature"
   ],
   "window_display": false
  }
 },
 "nbformat": 4,
 "nbformat_minor": 2
}
