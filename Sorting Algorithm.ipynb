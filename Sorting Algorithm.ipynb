{
 "cells": [
  {
   "cell_type": "markdown",
   "metadata": {},
   "source": [
    "# 排序的基本概念和分类\n",
    "\n",
    "## 基本概念\n",
    "### 定义\n",
    "排序，就是使一串记录，按照其中的某个或某些关键字的大小，递增或递减的排列起来的操作。排序算法，就是如何使得记录按照要求排列的方法。\n",
    "\n",
    "### 稳定性：\n",
    "经过某种排序后，如果两个记录序号同等，且两者在原无序记录中的先后秩序依然保持不变，则称所使用的排序方法是稳定的，反之是不稳定的。\n",
    "\n",
    "![title](img/排序算法.png)\n",
    "\n",
    "### 内排序和外排序\n",
    "内排序：排序过程中，待排序的所有记录全部放在内存中\n",
    "外排序：排序过程中，使用到了外部存储。\n",
    "通常讨论的都是内排序。\n",
    "\n",
    "### 影响内排序算法性能的三个因素：\n",
    "时间复杂度：即时间性能，高效率的排序算法应该是具有尽可能少的关键字比较次数和记录的移动次数\n",
    "空间复杂度：主要是执行算法所需要的辅助空间，越少越好。\n",
    "算法复杂性。主要是指代码的复杂性。\n",
    "\n",
    "### 分类\n",
    "根据排序过程中借助的主要操作，可把内排序分为：\n",
    "\n",
    "- 插入排序\n",
    "- 选择排序\n",
    "- 交换排序\n",
    "- 归并排序\n",
    "- 分配排序\n",
    "\n",
    "按照算法复杂度可分为两类：\n",
    "\n",
    "- 简单算法：包括冒泡排序、简单选择排序和直接插入排序\n",
    "- 改进算法：包括希尔排序、堆排序、归并排序和快速排序"
   ]
  },
  {
   "cell_type": "markdown",
   "metadata": {},
   "source": [
    "|排序方法|平均情况|最好情况|最坏情况|辅助空间|稳定性|\n",
    "|:---:|:---:|:---:|:---:|:---:|:---:|\n",
    "|直接插入排序|$$O(n^2)\\notag$$|$$O(n)\\notag$$|$$O(n^2)\\notag$$|$$O(1)\\notag$$|稳定|\n",
    "|希尔排序|$$O(n\\log_2 n)\\sim O(n^2)\\notag$$|$$O(n^{1.3})\\notag$$|$$O(n^2)\\notag$$|$$O(1)\\notag$$|不稳定|\n",
    "|冒泡排序|$$O(n^2)\\notag$$|$$O(n)\\notag$$|$$O(n^2)\\notag$$|$$O(1)\\notag$$|稳定|\n",
    "|快速排序|$$O(n\\log_2n)\\notag$$|$$O(n\\log_2n)\\notag$$|$$O(n^2)\\notag$$|$$O(\\log_2n)\\sim O(n)\\notag$$|不稳定|\n",
    "|简单选择排序|$$O(n^2)\\notag$$|$$O(n^2)\\notag$$|$$O(n^2)\\notag$$|$$O(1)\\notag$$|不稳定|\n",
    "|堆排序|$$O(n\\log_2n)\\notag$$|$$O(n\\log_2n)\\notag$$|$$O(n\\log_2n)\\notag$$|$$O(1)\\notag$$|不稳定|\n",
    "|归并排序|$$O(n\\log_2n)\\notag$$|$$O(n\\log_2n)\\notag$$|$$O(n\\log_2n)\\notag$$|$$O(n)\\notag$$|稳定|\n",
    "|基数排序|$$O(d(n+m))\\notag$$|$$O(d(n+m))\\notag$$|$$O(d(n+m))\\notag$$|$$O(m)\\notag$$|稳定|"
   ]
  },
  {
   "cell_type": "markdown",
   "metadata": {},
   "source": [
    "# 插入排序 (Insertion Sort)"
   ]
  },
  {
   "cell_type": "markdown",
   "metadata": {},
   "source": [
    "## 直接插入排序 (Straight Insertion Sort)\n",
    "直接插入排序（Straight Insertion Sort）:时间复杂度$O(n^2)$\n",
    "\n",
    "基本操作是将一个记录插入到已经排好序的有序表中，从而得到一个新的、记录数增1的有序表。\n",
    "\n",
    "![title](img/InsertionSort-example.gif)"
   ]
  },
  {
   "cell_type": "code",
   "execution_count": 78,
   "metadata": {},
   "outputs": [],
   "source": [
    "class SQList:\n",
    "    def insert_sort(self, arr, is_print=False):\n",
    "        nums = arr.copy()\n",
    "        length = len(nums)\n",
    "        # 下标从1开始\n",
    "        for i in range(1, length):\n",
    "            if nums[i] < nums[i-1]:\n",
    "                temp = nums[i]\n",
    "                j = i-1\n",
    "                while nums[j] > temp and j >= 0:\n",
    "                    nums[j+1] = nums[j]\n",
    "                    j -= 1                    \n",
    "                nums[j+1] = temp\n",
    "                if is_print:\n",
    "                    print(nums)\n",
    "        return nums\n",
    "    \n",
    "sqnumst = SQList()\n",
    "nums = [4,1,7,3,8,5,9,2,6]    "
   ]
  },
  {
   "cell_type": "code",
   "execution_count": 73,
   "metadata": {},
   "outputs": [
    {
     "name": "stdout",
     "output_type": "stream",
     "text": [
      "3.65 µs ± 110 ns per loop (mean ± std. dev. of 7 runs, 100000 loops each)\n"
     ]
    }
   ],
   "source": [
    "%%timeit\n",
    "sqnumst.insert_sort(nums)"
   ]
  },
  {
   "cell_type": "code",
   "execution_count": 79,
   "metadata": {},
   "outputs": [
    {
     "name": "stdout",
     "output_type": "stream",
     "text": [
      "[1, 4, 7, 3, 8, 5, 9, 2, 6]\n",
      "[1, 3, 4, 7, 8, 5, 9, 2, 6]\n",
      "[1, 3, 4, 5, 7, 8, 9, 2, 6]\n",
      "[1, 2, 3, 4, 5, 7, 8, 9, 6]\n",
      "[1, 2, 3, 4, 5, 6, 7, 8, 9]\n"
     ]
    }
   ],
   "source": [
    "sorted_nums = sqnumst.insert_sort(nums, True)"
   ]
  },
  {
   "cell_type": "markdown",
   "metadata": {},
   "source": [
    "## 希尔排序 (Shell Sort)\n",
    "希尔排序（Shell Sort）是插入排序的改进版本，其核心思想是将原数据集合分割成若干个子序列，然后再对子序列分别进行直接插入排序，使子序列基本有序，最后再对全体记录进行一次直接插入排序。\n",
    "\n",
    "这里最关键的是跳跃和分割的策略，也就是我们要怎么分割数据，间隔多大的问题。通常将相距某个“增量”的记录组成一个子序列，这样才能保证在子序列内分别进行直接插入排序后得到的结果是基本有序而不是局部有序。下面的例子中通过：increment = int(increment/3)+1来确定“增量”的值。\n",
    "\n",
    "希尔排序的时间复杂度为：$O(n^{\\frac{3}{2}})$"
   ]
  },
  {
   "cell_type": "code",
   "execution_count": 98,
   "metadata": {},
   "outputs": [],
   "source": [
    "class SQList:\n",
    "    def shell_sort(self, arr, is_print=False):\n",
    "        \"\"\"希尔排序\"\"\"\n",
    "        nums = arr.copy()\n",
    "        length = len(nums)\n",
    "        increment = len(nums)\n",
    "        while increment > 1:\n",
    "            increment = int(increment/3)+1\n",
    "            for i in range(increment, length):\n",
    "                if nums[i] < nums[i - increment]:\n",
    "                    temp = nums[i]\n",
    "                    j = i - increment\n",
    "                    while j >= 0 and temp < nums[j]:\n",
    "                        nums[j+increment] = nums[j]\n",
    "                        j -= increment\n",
    "                    nums[j+increment] = temp\n",
    "                    if is_print:\n",
    "                        print(nums)\n",
    "        return nums\n",
    "    \n",
    "sqnumst = SQList()\n",
    "nums = [4,1,7,3,8,5,9,2,6]        "
   ]
  },
  {
   "cell_type": "code",
   "execution_count": 100,
   "metadata": {},
   "outputs": [
    {
     "name": "stdout",
     "output_type": "stream",
     "text": [
      "6.25 µs ± 115 ns per loop (mean ± std. dev. of 7 runs, 100000 loops each)\n"
     ]
    }
   ],
   "source": [
    "%%timeit\n",
    "sqnumst.shell_sort(nums)"
   ]
  },
  {
   "cell_type": "code",
   "execution_count": 99,
   "metadata": {},
   "outputs": [
    {
     "name": "stdout",
     "output_type": "stream",
     "text": [
      "[4, 1, 7, 2, 8, 5, 9, 3, 6]\n",
      "[4, 1, 7, 2, 6, 5, 9, 3, 8]\n",
      "[4, 1, 6, 2, 7, 5, 9, 3, 8]\n",
      "[4, 1, 6, 2, 7, 3, 9, 5, 8]\n",
      "[4, 1, 6, 2, 7, 3, 8, 5, 9]\n",
      "[1, 4, 6, 2, 7, 3, 8, 5, 9]\n",
      "[1, 2, 4, 6, 7, 3, 8, 5, 9]\n",
      "[1, 2, 3, 4, 6, 7, 8, 5, 9]\n",
      "[1, 2, 3, 4, 5, 6, 7, 8, 9]\n"
     ]
    }
   ],
   "source": [
    "sorted_nums = sqnumst.shell_sort(nums, True)"
   ]
  },
  {
   "cell_type": "markdown",
   "metadata": {},
   "source": [
    "# 交换排序 (Exchange Sort)"
   ]
  },
  {
   "cell_type": "markdown",
   "metadata": {},
   "source": [
    "## 冒泡排序 (Bubble sort)\n",
    "\n",
    "冒泡排序（Bubble sort）：时间复杂度$O(n^2)$\n",
    "\n",
    "交换排序的一种。\n",
    "\n",
    "其核心思想是：两两比较相邻记录的关键字，如果反序则交换，直到没有反序记录为止。\n",
    "\n",
    "还有两种优化方案。\n",
    "- 优化1：某一趟遍历如果没有数据交换，则说明已经排好序了，因此不用再进行迭代了。用一个标记记录这个状态即可。\n",
    "- 优化2：记录某次遍历时最后发生数据交换的位置，这个位置之后的数据显然已经有序，不用再排序了。因此通过记录最后发生数据交换的位置就可以确定下次循环的范围了。"
   ]
  },
  {
   "cell_type": "code",
   "execution_count": 115,
   "metadata": {},
   "outputs": [],
   "source": [
    "class SQList:\n",
    "    '''\n",
    "    冒泡排序（升序排列）\n",
    "    '''\n",
    "    def bubble_sort(self, arr, is_print=False):\n",
    "        \"\"\"\n",
    "        冒泡排序，时间复杂度O(n^2)\n",
    "        \"\"\"\n",
    "        nums = arr.copy()\n",
    "        length = len(nums)\n",
    "        for i in range(length):\n",
    "            # After each loop, a^(i)[i] = min{a^(i)[i:]},\n",
    "            # where a^(i) is the array in the i-th loop\n",
    "            j = length-2\n",
    "            while j >= i:\n",
    "                if nums[j] > nums[j+1]:\n",
    "                    nums[j], nums[j+1] = nums[j+1], nums[j]\n",
    "                    if is_print:\n",
    "                        print(nums)\n",
    "                j -= 1\n",
    "        return nums\n",
    "    \n",
    "    def bubble_sort_advance(self, arr, is_print=False):\n",
    "        \"\"\"\n",
    "        冒泡排序改进算法，时间复杂度O(n^2)\n",
    "        设置flag，当一轮比较中未发生交换动作，则说明后面的元素其实已经有序排列了。\n",
    "        对于比较规整的元素集合，可提高一定的排序效率。\n",
    "        \"\"\"\n",
    "        nums = arr.copy()\n",
    "        length = len(nums)\n",
    "        exchange = length\n",
    "        while exchange!=-1:\n",
    "            bound = exchange-1\n",
    "            exchange = -1\n",
    "            for j in range(bound):\n",
    "                if nums[j]>nums[j+1]:\n",
    "                    nums[j], nums[j+1] = nums[j+1], nums[j]\n",
    "                    exchange = j\n",
    "                    if is_print:\n",
    "                        print(nums)\n",
    "        return nums    \n",
    "\n",
    "sqnumst = SQList()\n",
    "nums = [4,1,7,3,8,5,9,2,6]"
   ]
  },
  {
   "cell_type": "code",
   "execution_count": 65,
   "metadata": {},
   "outputs": [
    {
     "name": "stdout",
     "output_type": "stream",
     "text": [
      "6.64 µs ± 136 ns per loop (mean ± std. dev. of 7 runs, 100000 loops each)\n"
     ]
    }
   ],
   "source": [
    "%%timeit\n",
    "sqnumst.bubble_sort(nums)"
   ]
  },
  {
   "cell_type": "code",
   "execution_count": 66,
   "metadata": {},
   "outputs": [
    {
     "name": "stdout",
     "output_type": "stream",
     "text": [
      "[4, 1, 7, 3, 8, 5, 2, 9, 6]\n",
      "[4, 1, 7, 3, 8, 2, 5, 9, 6]\n",
      "[4, 1, 7, 3, 2, 8, 5, 9, 6]\n",
      "[4, 1, 7, 2, 3, 8, 5, 9, 6]\n",
      "[4, 1, 2, 7, 3, 8, 5, 9, 6]\n",
      "[1, 4, 2, 7, 3, 8, 5, 9, 6]\n",
      "[1, 4, 2, 7, 3, 8, 5, 6, 9]\n",
      "[1, 4, 2, 7, 3, 5, 8, 6, 9]\n",
      "[1, 4, 2, 3, 7, 5, 8, 6, 9]\n",
      "[1, 2, 4, 3, 7, 5, 8, 6, 9]\n",
      "[1, 2, 4, 3, 7, 5, 6, 8, 9]\n",
      "[1, 2, 4, 3, 5, 7, 6, 8, 9]\n",
      "[1, 2, 3, 4, 5, 7, 6, 8, 9]\n",
      "[1, 2, 3, 4, 5, 6, 7, 8, 9]\n"
     ]
    }
   ],
   "source": [
    "sorted_nums = sqnumst.bubble_sort(nums, True)"
   ]
  },
  {
   "cell_type": "code",
   "execution_count": 117,
   "metadata": {},
   "outputs": [
    {
     "name": "stdout",
     "output_type": "stream",
     "text": [
      "3.74 µs ± 152 ns per loop (mean ± std. dev. of 7 runs, 100000 loops each)\n"
     ]
    }
   ],
   "source": [
    "%%timeit\n",
    "sqnumst.bubble_sort_advance(nums)"
   ]
  },
  {
   "cell_type": "code",
   "execution_count": 116,
   "metadata": {},
   "outputs": [
    {
     "name": "stdout",
     "output_type": "stream",
     "text": [
      "[1, 4, 7, 3, 8, 5, 9, 2, 6]\n",
      "[1, 4, 3, 7, 8, 5, 9, 2, 6]\n",
      "[1, 4, 3, 7, 5, 8, 9, 2, 6]\n",
      "[1, 4, 3, 7, 5, 8, 2, 9, 6]\n",
      "[1, 4, 3, 7, 5, 8, 2, 6, 9]\n",
      "[1, 3, 4, 7, 5, 8, 2, 6, 9]\n",
      "[1, 3, 4, 5, 7, 8, 2, 6, 9]\n",
      "[1, 3, 4, 5, 7, 2, 8, 6, 9]\n"
     ]
    }
   ],
   "source": [
    "sorted_nums = sqnumst.bubble_sort_advance(nums, True)"
   ]
  },
  {
   "cell_type": "markdown",
   "metadata": {},
   "source": [
    "## 快速排序 (Quick Sort)\n",
    "\n",
    "快速排序通常明显比同为Ο(n log n)的其他算法更快，因此常被采用，而且快排采用了分治法的思想，所以在很多笔试面试中能经常看到快排的影子。可见掌握快排的重要性。\n",
    "\n",
    "步骤：\n",
    "\n",
    "1. 从数列中挑出一个元素作为基准数。\n",
    "2. 分区过程，将比基准数大的放到右边，小于或等于它的数都放到左边。\n",
    "3. 再对左右区间递归执行第二步，直至各区间只有一个数。\n",
    "\n",
    "![title](img/QuickSort-example.gif)"
   ]
  },
  {
   "cell_type": "code",
   "execution_count": 127,
   "metadata": {},
   "outputs": [],
   "source": [
    "class SQList:\n",
    "    def quick_sort(self, arr, is_print=False):\n",
    "        \"\"\"调用入口\"\"\"\n",
    "        self.nums = arr.copy()\n",
    "        self.is_print = is_print\n",
    "        self.qsort(0, len(self.nums)-1)\n",
    "\n",
    "    def qsort(self, low, high):\n",
    "        \"\"\"递归调用\"\"\"\n",
    "        if low < high:\n",
    "            pivot = self.partition(low, high)\n",
    "            self.qsort(low, pivot-1)\n",
    "            self.qsort(pivot+1, high)\n",
    "\n",
    "    def partition(self, low, high):\n",
    "        \"\"\"\n",
    "        快速排序的核心代码。\n",
    "        其实就是将选取的pivot_key不断交换，将比它小的换到左边，将比它大的换到右边。\n",
    "        它自己也在交换中不断变换自己的位置，直到完成所有的交换为止。\n",
    "        但在函数调用的过程中，pivot_key的值始终不变。\n",
    "        :param low:左边界下标\n",
    "        :param high:右边界下标\n",
    "        :return:分完左右区后pivot_key所在位置的下标\n",
    "        \"\"\"\n",
    "        pivot_key = nums[low]\n",
    "        while low < high:\n",
    "            while low < high and self.nums[high] >= pivot_key:\n",
    "                high -= 1\n",
    "            if low<high:\n",
    "                self.nums[low], self.nums[high] = self.nums[high], self.nums[low]\n",
    "                if self.is_print:\n",
    "                    print(self.nums)\n",
    "            while low < high and self.nums[low] <= pivot_key:\n",
    "                low += 1\n",
    "            if low<high:\n",
    "                self.nums[low], self.nums[high] = self.nums[high], self.nums[low]\n",
    "                if self.is_print:\n",
    "                    print(self.nums)            \n",
    "        return low\n",
    "    \n",
    "sqnumst = SQList()\n",
    "nums = [4,1,7,3,8,5,9,2,6]    "
   ]
  },
  {
   "cell_type": "code",
   "execution_count": 130,
   "metadata": {},
   "outputs": [
    {
     "name": "stdout",
     "output_type": "stream",
     "text": [
      "9.02 µs ± 395 ns per loop (mean ± std. dev. of 7 runs, 100000 loops each)\n"
     ]
    }
   ],
   "source": [
    "%%timeit\n",
    "sqnumst.quick_sort(nums)"
   ]
  },
  {
   "cell_type": "code",
   "execution_count": 128,
   "metadata": {},
   "outputs": [
    {
     "name": "stdout",
     "output_type": "stream",
     "text": [
      "[2, 1, 7, 3, 8, 5, 9, 4, 6]\n",
      "[2, 1, 4, 3, 8, 5, 9, 7, 6]\n",
      "[2, 1, 3, 4, 8, 5, 9, 7, 6]\n",
      "[3, 1, 2, 4, 8, 5, 9, 7, 6]\n",
      "[1, 3, 2, 4, 8, 5, 9, 7, 6]\n",
      "[1, 3, 2, 4, 6, 5, 9, 7, 8]\n",
      "[1, 3, 2, 4, 6, 5, 8, 7, 9]\n",
      "[1, 3, 2, 4, 6, 5, 7, 8, 9]\n",
      "[1, 3, 2, 4, 7, 5, 6, 8, 9]\n",
      "[1, 3, 2, 4, 5, 7, 6, 8, 9]\n"
     ]
    }
   ],
   "source": [
    "sorted_nums = sqnumst.quick_sort(nums, True)"
   ]
  },
  {
   "cell_type": "markdown",
   "metadata": {},
   "source": [
    "# 选择排序 (Selection Sort)"
   ]
  },
  {
   "cell_type": "markdown",
   "metadata": {},
   "source": [
    "## 简单选择排序 (simple selection sort)\n",
    "简单选择排序（simple selection sort）:时间复杂度$O(n^2)$\n",
    "\n",
    "通过$n-i$次关键字之间的比较，从$n-i+1$个记录中选出关键字最小的记录，并和第$i$（$1\\leq i\\leq n$)个记录进行交换。\n",
    "\n",
    "通俗的说就是，对尚未完成排序的所有元素，从头到尾比一遍，记录下最小的那个元素的下标，也就是该元素的位置。再把该元素交换到当前遍历的最前面。其效率之处在于，每一轮中比较了很多次，但只交换一次。因此虽然它的时间复杂度也是$O(n^2)$，但比冒泡算法还是要好一点。"
   ]
  },
  {
   "cell_type": "code",
   "execution_count": 95,
   "metadata": {},
   "outputs": [],
   "source": [
    "class SQList:\n",
    "    def select_sort(self, arr, is_print=False):\n",
    "        \"\"\"\n",
    "        简单选择排序，时间复杂度O(n^2)\n",
    "        \"\"\"\n",
    "        nums = arr.copy()\n",
    "        length = len(nums)\n",
    "        for i in range(length):\n",
    "            # After each loop, a^(i)[i] = min{a^(i)[i:]},\n",
    "            # where a^(i) is the array in the i-th loop\n",
    "            minimum = i\n",
    "            \n",
    "            # 1. Loop for [i+1,length) to find the smallest \n",
    "            # element and record its index\n",
    "            for j in range(i+1, length):\n",
    "                if nums[minimum] > nums[j]:\n",
    "                    minimum = j\n",
    "                    \n",
    "            # 2. Swap the i-th element and the smallest element\n",
    "            if i!=minimum:\n",
    "                nums[minimum], nums[i] = nums[i], nums[minimum]\n",
    "                \n",
    "            if is_print:                \n",
    "                print(nums)\n",
    "        return nums     \n",
    "sqnumst = SQList()\n",
    "nums = [4,1,7,3,8,5,9,2,6]"
   ]
  },
  {
   "cell_type": "code",
   "execution_count": 96,
   "metadata": {},
   "outputs": [
    {
     "name": "stdout",
     "output_type": "stream",
     "text": [
      "6.35 µs ± 272 ns per loop (mean ± std. dev. of 7 runs, 100000 loops each)\n"
     ]
    }
   ],
   "source": [
    "%%timeit\n",
    "sqnumst.select_sort(nums)"
   ]
  },
  {
   "cell_type": "code",
   "execution_count": 97,
   "metadata": {},
   "outputs": [
    {
     "name": "stdout",
     "output_type": "stream",
     "text": [
      "[1, 4, 7, 3, 8, 5, 9, 2, 6]\n",
      "[1, 2, 7, 3, 8, 5, 9, 4, 6]\n",
      "[1, 2, 3, 7, 8, 5, 9, 4, 6]\n",
      "[1, 2, 3, 4, 8, 5, 9, 7, 6]\n",
      "[1, 2, 3, 4, 5, 8, 9, 7, 6]\n",
      "[1, 2, 3, 4, 5, 6, 9, 7, 8]\n",
      "[1, 2, 3, 4, 5, 6, 7, 9, 8]\n",
      "[1, 2, 3, 4, 5, 6, 7, 8, 9]\n",
      "[1, 2, 3, 4, 5, 6, 7, 8, 9]\n"
     ]
    }
   ],
   "source": [
    "sorted_nums = sqnumst.select_sort(nums, True)"
   ]
  },
  {
   "cell_type": "markdown",
   "metadata": {},
   "source": [
    "## 堆排序 (Heap Sort)\n",
    "\n",
    "堆排序在 top K 问题中使用比较频繁。堆排序是采用二叉堆的数据结构来实现的，虽然实质上还是一维数组。二叉堆是一个近似完全二叉树 。\n",
    "\n",
    "二叉堆具有以下性质：\n",
    "\n",
    "父节点的键值总是大于或等于（小于或等于）任何一个子节点的键值。\n",
    "每个节点的左右子树都是一个二叉堆（都是最大堆或最小堆）。\n",
    "步骤：\n",
    "\n",
    "1. 构造最大堆（Build_Max_Heap）：若数组下标范围为0~n，考虑到单独一个元素是大根堆，则从下标n/2开始的元素均为大根堆。于是只要从n/2-1开始，向前依次构造大根堆，这样就能保证，构造到某个节点时，它的左右子树都已经是大根堆。\n",
    "\n",
    "2. 堆排序（HeapSort）：由于堆是用数组模拟的。得到一个大根堆后，数组内部并不是有序的。因此需要将堆化数组有序化。思想是移除根节点，并做最大堆调整的递归运算。第一次将heap[0]与heap[n-1]交换，再对heap[0...n-2]做最大堆调整。第二次将heap[0]与heap[n-2]交换，再对heap[0...n-3]做最大堆调整。重复该操作直至heap[0]和heap[1]交换。由于每次都是将最大的数并入到后面的有序区间，故操作完后整个数组就是有序的了。\n",
    "\n",
    "2. 最大堆调整（Max_Heapify）：该方法是提供给上述两个过程调用的。目的是将堆的末端子节点作调整，使得子节点永远小于父节点 。\n",
    "\n",
    "![title](img/HeapSort-example.gif)"
   ]
  },
  {
   "cell_type": "code",
   "execution_count": 139,
   "metadata": {},
   "outputs": [],
   "source": [
    "class SQList:\n",
    "    def build_max_heap(self):\n",
    "        # 将原始序列构造成一个大顶堆\n",
    "        # 遍历从中间开始，到0结束，其实这些是堆的分支节点。\n",
    "        i = int(self.length/2)       \n",
    "        while i >= 0:\n",
    "            self.heap_adjust(i, self.length-1)\n",
    "            i -= 1\n",
    "        \n",
    "    def heap_sort(self, arr, is_print=False):\n",
    "        self.nums = arr.copy()\n",
    "        self.length = len(self.nums)\n",
    "        \n",
    "        # 1. Build max heap\n",
    "        self.build_max_heap()\n",
    "        if is_print:\n",
    "            print(self.nums)\n",
    "            \n",
    "        # 2. Heap sort\n",
    "        # 逆序遍历整个序列，不断取出根节点的值，完成实际的排序。\n",
    "        j = self.length-1\n",
    "        while j > 0:\n",
    "            # 将当前根节点，也就是列表最开头，下标为0的值，交换到最后面j处\n",
    "            self.nums[0], self.nums[j] = self.nums[j], self.nums[0]\n",
    "            # 将发生变化的序列重新构造成大顶堆\n",
    "            self.heap_adjust(0, j-1)\n",
    "            j -= 1\n",
    "            if is_print:\n",
    "                print(self.nums)\n",
    "        return self.nums\n",
    "        \n",
    "    def heap_adjust(self, s, m):\n",
    "        \"\"\"核心的大顶堆构造方法，维持序列的堆结构。\"\"\"\n",
    "        temp = self.nums[s]\n",
    "        # 当前结点为s,对应左、右子结点分别为2s+1、2s+2\n",
    "        i = 2*s+1\n",
    "        while i <= m:\n",
    "            # i 指向较大的子节点\n",
    "            if i < m and self.nums[i] < self.nums[i+1]:\n",
    "                i += 1\n",
    "                \n",
    "            # 根节点大于子节点\n",
    "            if temp >= self.nums[i]:\n",
    "                break\n",
    "            else:\n",
    "                self.nums[s] = self.nums[i]\n",
    "                s = i\n",
    "                i = 2*i+1\n",
    "        self.nums[s] = temp\n",
    "        \n",
    "sqnumst = SQList()\n",
    "nums = [4,1,7,3,8,5,9,2,6]        "
   ]
  },
  {
   "cell_type": "code",
   "execution_count": 140,
   "metadata": {},
   "outputs": [
    {
     "name": "stdout",
     "output_type": "stream",
     "text": [
      "12.7 µs ± 592 ns per loop (mean ± std. dev. of 7 runs, 100000 loops each)\n"
     ]
    }
   ],
   "source": [
    "%%timeit\n",
    "sqnumst.heap_sort(nums)"
   ]
  },
  {
   "cell_type": "code",
   "execution_count": 138,
   "metadata": {},
   "outputs": [
    {
     "name": "stdout",
     "output_type": "stream",
     "text": [
      "[9, 8, 7, 6, 1, 5, 4, 2, 3]\n",
      "[8, 6, 7, 3, 1, 5, 4, 2, 9]\n",
      "[7, 6, 5, 3, 1, 2, 4, 8, 9]\n",
      "[6, 4, 5, 3, 1, 2, 7, 8, 9]\n",
      "[5, 4, 2, 3, 1, 6, 7, 8, 9]\n",
      "[4, 3, 2, 1, 5, 6, 7, 8, 9]\n",
      "[3, 1, 2, 4, 5, 6, 7, 8, 9]\n",
      "[2, 1, 3, 4, 5, 6, 7, 8, 9]\n",
      "[1, 2, 3, 4, 5, 6, 7, 8, 9]\n"
     ]
    }
   ],
   "source": [
    "sorted_nums = sqnumst.heap_sort(nums, True)"
   ]
  },
  {
   "cell_type": "markdown",
   "metadata": {},
   "source": [
    "# 归并排序 (Merge Sort)\n",
    "\n",
    "归并排序是采用分治法的一个非常典型的应用。归并排序的思想就是先递归分解数组，再合并数组。\n",
    "\n",
    "先考虑合并两个有序数组，基本思路是比较两个数组的最前面的数，谁小就先取谁，取了后相应的指针就往后移一位。然后再比较，直至一个数组为空，最后把另一个数组的剩余部分复制过来即可。\n",
    "\n",
    "再考虑递归分解，基本思路是将数组分解成left和right，如果这两个数组内部数据是有序的，那么就可以用上面合并数组的方法将这两个数组合并排序。如何让这两个数组内部是有序的？可以再二分，直至分解出的小组只含有一个元素时为止，此时认为该小组内部已有序。然后合并排序相邻二个小组即可。\n",
    "\n",
    "![title](img/MergeSort-example.gif)"
   ]
  },
  {
   "cell_type": "markdown",
   "metadata": {},
   "source": [
    "# 分配排序"
   ]
  },
  {
   "cell_type": "markdown",
   "metadata": {},
   "source": [
    "## 桶排序"
   ]
  },
  {
   "cell_type": "markdown",
   "metadata": {},
   "source": [
    "## 基数排序"
   ]
  },
  {
   "cell_type": "code",
   "execution_count": null,
   "metadata": {},
   "outputs": [],
   "source": []
  }
 ],
 "metadata": {
  "hide_input": false,
  "kernelspec": {
   "display_name": "Python 3",
   "language": "python",
   "name": "python3"
  },
  "language_info": {
   "codemirror_mode": {
    "name": "ipython",
    "version": 3
   },
   "file_extension": ".py",
   "mimetype": "text/x-python",
   "name": "python",
   "nbconvert_exporter": "python",
   "pygments_lexer": "ipython3",
   "version": "3.6.7"
  },
  "latex_envs": {
   "LaTeX_envs_menu_present": true,
   "autoclose": false,
   "autocomplete": true,
   "bibliofile": "biblio.bib",
   "cite_by": "apalike",
   "current_citInitial": 1,
   "eqLabelWithNumbers": true,
   "eqNumInitial": 1,
   "hotkeys": {
    "equation": "Ctrl-E",
    "itemize": "Ctrl-I"
   },
   "labels_anchors": false,
   "latex_user_defs": false,
   "report_style_numbering": false,
   "user_envs_cfg": false
  },
  "toc": {
   "base_numbering": 1,
   "nav_menu": {},
   "number_sections": true,
   "sideBar": true,
   "skip_h1_title": false,
   "title_cell": "Table of Contents",
   "title_sidebar": "Contents",
   "toc_cell": false,
   "toc_position": {
    "height": "calc(100% - 180px)",
    "left": "10px",
    "top": "150px",
    "width": "384px"
   },
   "toc_section_display": true,
   "toc_window_display": true
  },
  "varInspector": {
   "cols": {
    "lenName": 16,
    "lenType": 16,
    "lenVar": 40
   },
   "kernels_config": {
    "python": {
     "delete_cmd_postfix": "",
     "delete_cmd_prefix": "del ",
     "library": "var_list.py",
     "varRefreshCmd": "print(var_dic_list())"
    },
    "r": {
     "delete_cmd_postfix": ") ",
     "delete_cmd_prefix": "rm(",
     "library": "var_list.r",
     "varRefreshCmd": "cat(var_dic_list()) "
    }
   },
   "types_to_exclude": [
    "module",
    "function",
    "builtin_function_or_method",
    "instance",
    "_Feature"
   ],
   "window_display": false
  }
 },
 "nbformat": 4,
 "nbformat_minor": 2
}
