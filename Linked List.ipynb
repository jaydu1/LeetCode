{
 "cells": [
  {
   "cell_type": "markdown",
   "metadata": {},
   "source": [
    "# 142. Linked List Cycle II\n",
    "\n",
    "Given a linked list, return the node where the cycle begins. If there is no cycle, return null.\n",
    "\n",
    "To represent a cycle in the given linked list, we use an integer pos which represents the position (0-indexed) in the linked list where tail connects to. If pos is -1, then there is no cycle in the linked list.\n",
    "\n",
    "**Note**: Do not modify the linked list.\n",
    "\n",
    "**Example 1**:\n",
    "\n",
    "    Input: head = [3,2,0,-4], pos = 1\n",
    "    Output: tail connects to node index 1\n",
    "    Explanation: There is a cycle in the linked list, where tail connects to the second node.\n",
    "\n",
    "\n",
    "**Example 2**:\n",
    "\n",
    "    Input: head = [1,2], pos = 0\n",
    "    Output: tail connects to node index 0\n",
    "    Explanation: There is a cycle in the linked list, where tail connects to the first node.\n",
    "\n",
    "\n",
    "**Example 3**:\n",
    "\n",
    "    Input: head = [1], pos = -1\n",
    "    Output: no cycle\n",
    "    Explanation: There is no cycle in the linked list.\n",
    "\n",
    "**Follow up**:\n",
    "Can you solve it without using extra space?"
   ]
  },
  {
   "cell_type": "code",
   "execution_count": null,
   "metadata": {},
   "outputs": [],
   "source": [
    "# Definition for singly-linked list.\n",
    "# class ListNode(object):\n",
    "#     def __init__(self, x):\n",
    "#         self.val = x\n",
    "#         self.next = None\n",
    "\n",
    "class Solution(object):\n",
    "    def detectCycle(self, head):\n",
    "        \"\"\"\n",
    "        :type head: ListNode\n",
    "        :rtype: ListNode\n",
    "        \"\"\"\n",
    "        # Deal with special cases\n",
    "        if (not head) or (not head.next):\n",
    "            return None\n",
    "        \n",
    "        # Suppose the list can be decomposed as\n",
    "        # two parts, with length i and j respectively,\n",
    "        # and the first part is outside the cycle \n",
    "        # while the second part is in the cycle\n",
    "        \n",
    "        # Fast and slow pointer\n",
    "        p1 = head             \n",
    "        p2 = head\n",
    "        while p1.next and p2.next.next: \n",
    "            p1 = p1.next\n",
    "            p2 = p2.next.next\n",
    "            if p2.next is None:\n",
    "                break\n",
    "                \n",
    "            # When p1 goes to the i-th element,\n",
    "            # p2 goes to the 2i-th element.\n",
    "            # If the two meet, p1 goes to the i+mod(j-i, j) th element.\n",
    "            if p1==p2:  \n",
    "                \n",
    "                # Next, locate the desired index.\n",
    "                # After mod(i,j) steps, p1 and head meet at the i-th element.\n",
    "                while p1!=head:\n",
    "                    p1 = p1.next\n",
    "                    head = head.next                    \n",
    "                return p1\n",
    "           \n",
    "        return None"
   ]
  },
  {
   "cell_type": "markdown",
   "metadata": {},
   "source": [
    "扩展：\n",
    "\n",
    "1. 一个链表环，给其中一个节点，删除1,3,5,7。。等奇数节点\n",
    "2. 实现拉链hash算法"
   ]
  },
  {
   "cell_type": "markdown",
   "metadata": {},
   "source": [
    "# 206. Reverse Linked List\n",
    "\n",
    "Reverse a singly linked list.\n",
    "\n",
    "**Example**:\n",
    "\n",
    "    Input: 1->2->3->4->5->NULL\n",
    "    Output: 5->4->3->2->1->NULL\n",
    "    \n",
    "**Follow up**:\n",
    "\n",
    "A linked list can be reversed either iteratively or recursively. Could you implement both?"
   ]
  },
  {
   "cell_type": "code",
   "execution_count": null,
   "metadata": {},
   "outputs": [],
   "source": [
    "# Definition for singly-linked list.\n",
    "# class ListNode:\n",
    "#     def __init__(self, x):\n",
    "#         self.val = x\n",
    "#         self.next = None\n",
    "\n",
    "class Solution:\n",
    "    def reverseList(self, head: ListNode) -> ListNode:\n",
    "        if head is None:\n",
    "            return None\n",
    "        \n",
    "        i = ListNode(head.val)\n",
    "        i.next = None\n",
    "        \n",
    "        head = head.next\n",
    "        while head:            \n",
    "            j = ListNode(head.val)\n",
    "            j.next = i\n",
    "            i = j\n",
    "            head = head.next\n",
    "            \n",
    "        return i"
   ]
  },
  {
   "cell_type": "markdown",
   "metadata": {},
   "source": [
    "扩展：\n",
    "\n",
    "1. 反转链表中的第i到第j个节点之间的部分\n",
    "2. 将链表的奇数位置上的节点（第1、3、5、7…个节点）放在偶数位置的节点（第2、4、6、8…个节点）之前\n",
    "3. 反转1，2-3,4-6,7-10。。这些部分的节点，如123456789变为132654987"
   ]
  },
  {
   "cell_type": "code",
   "execution_count": null,
   "metadata": {},
   "outputs": [],
   "source": []
  }
 ],
 "metadata": {
  "hide_input": false,
  "kernelspec": {
   "display_name": "Python 3",
   "language": "python",
   "name": "python3"
  },
  "language_info": {
   "codemirror_mode": {
    "name": "ipython",
    "version": 3
   },
   "file_extension": ".py",
   "mimetype": "text/x-python",
   "name": "python",
   "nbconvert_exporter": "python",
   "pygments_lexer": "ipython3",
   "version": "3.6.7"
  },
  "latex_envs": {
   "LaTeX_envs_menu_present": true,
   "autoclose": false,
   "autocomplete": true,
   "bibliofile": "biblio.bib",
   "cite_by": "apalike",
   "current_citInitial": 1,
   "eqLabelWithNumbers": true,
   "eqNumInitial": 1,
   "hotkeys": {
    "equation": "Ctrl-E",
    "itemize": "Ctrl-I"
   },
   "labels_anchors": false,
   "latex_user_defs": false,
   "report_style_numbering": false,
   "user_envs_cfg": false
  },
  "toc": {
   "base_numbering": 1,
   "nav_menu": {},
   "number_sections": true,
   "sideBar": true,
   "skip_h1_title": false,
   "title_cell": "Table of Contents",
   "title_sidebar": "Contents",
   "toc_cell": false,
   "toc_position": {},
   "toc_section_display": true,
   "toc_window_display": false
  },
  "varInspector": {
   "cols": {
    "lenName": 16,
    "lenType": 16,
    "lenVar": 40
   },
   "kernels_config": {
    "python": {
     "delete_cmd_postfix": "",
     "delete_cmd_prefix": "del ",
     "library": "var_list.py",
     "varRefreshCmd": "print(var_dic_list())"
    },
    "r": {
     "delete_cmd_postfix": ") ",
     "delete_cmd_prefix": "rm(",
     "library": "var_list.r",
     "varRefreshCmd": "cat(var_dic_list()) "
    }
   },
   "types_to_exclude": [
    "module",
    "function",
    "builtin_function_or_method",
    "instance",
    "_Feature"
   ],
   "window_display": false
  }
 },
 "nbformat": 4,
 "nbformat_minor": 2
}
