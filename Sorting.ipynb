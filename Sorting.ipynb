{
 "cells": [
  {
   "cell_type": "markdown",
   "metadata": {},
   "source": [
    "# 排序的基本概念和分类\n",
    "\n",
    "## 基本概念\n",
    "### 定义\n",
    "排序，就是使一串记录，按照其中的某个或某些关键字的大小，递增或递减的排列起来的操作。排序算法，就是如何使得记录按照要求排列的方法。\n",
    "\n",
    "### 稳定性：\n",
    "经过某种排序后，如果两个记录序号同等，且两者在原无序记录中的先后秩序依然保持不变，则称所使用的排序方法是稳定的，反之是不稳定的。\n",
    "\n",
    "### 内排序和外排序\n",
    "内排序：排序过程中，待排序的所有记录全部放在内存中\n",
    "外排序：排序过程中，使用到了外部存储。\n",
    "通常讨论的都是内排序。\n",
    "\n",
    "### 影响内排序算法性能的三个因素：\n",
    "时间复杂度：即时间性能，高效率的排序算法应该是具有尽可能少的关键字比较次数和记录的移动次数\n",
    "空间复杂度：主要是执行算法所需要的辅助空间，越少越好。\n",
    "算法复杂性。主要是指代码的复杂性。\n",
    "\n",
    "### 分类\n",
    "根据排序过程中借助的主要操作，可把内排序分为：\n",
    "\n",
    "- 插入排序\n",
    "- 交换排序\n",
    "- 选择排序\n",
    "- 归并排序\n",
    "\n",
    "按照算法复杂度可分为两类：\n",
    "\n",
    "- 简单算法：包括冒泡排序、简单选择排序和直接插入排序\n",
    "- 改进算法：包括希尔排序、堆排序、归并排序和快速排序"
   ]
  },
  {
   "cell_type": "markdown",
   "metadata": {},
   "source": [
    "# 冒泡排序\n",
    "\n",
    "冒泡排序（Bubble sort）：\n",
    "\n",
    "时间复杂度O(n^2)\n",
    "\n",
    "交换排序的一种。其核心思想是：两两比较相邻记录的关键字，如果反序则交换，直到没有反序记录为止。"
   ]
  },
  {
   "cell_type": "code",
   "execution_count": 5,
   "metadata": {},
   "outputs": [],
   "source": [
    "class SQList:\n",
    "    '''\n",
    "    冒泡排序（升序排列）\n",
    "    '''\n",
    "    def bubble_sort(self, nums):\n",
    "        \"\"\"\n",
    "        冒泡排序，时间复杂度O(n^2)\n",
    "        \"\"\"\n",
    "        length = len(nums)\n",
    "        for i in range(length):\n",
    "            # After each loop, a^(i)[i] = min{a^(i)[i:]},\n",
    "            # where a^(i) is the array in the i-th loop\n",
    "            j = length-2\n",
    "            while j >= i:\n",
    "                if nums[j] > nums[j+1]:\n",
    "                    nums[j], nums[j+1] = nums[j+1], nums[j]\n",
    "                j -= 1\n",
    "        return nums\n",
    "    \n",
    "    def bubble_sort_advance(self, nums):\n",
    "        \"\"\"\n",
    "        冒泡排序改进算法，时间复杂度O(n^2)\n",
    "        设置flag，当一轮比较中未发生交换动作，则说明后面的元素其实已经有序排列了。\n",
    "        对于比较规整的元素集合，可提高一定的排序效率。\n",
    "        \"\"\"\n",
    "        length = len(nums)\n",
    "        flag = True\n",
    "        i = 0\n",
    "        while i < length and flag:\n",
    "            flag = False\n",
    "            j = length - 2\n",
    "            while j >= i:\n",
    "                if nums[j] > nums[j + 1]:\n",
    "                    nums[j], nums[j+1] = nums[j+1], nums[j]\n",
    "                    flag = True\n",
    "                j -= 1\n",
    "            i += 1\n",
    "        return nums"
   ]
  },
  {
   "cell_type": "code",
   "execution_count": 6,
   "metadata": {},
   "outputs": [],
   "source": [
    "sqnumst = SQList()\n",
    "nums = [4,1,7,3,8,5,9,2,6]"
   ]
  },
  {
   "cell_type": "code",
   "execution_count": 8,
   "metadata": {},
   "outputs": [
    {
     "name": "stdout",
     "output_type": "stream",
     "text": [
      "4.94 µs ± 138 ns per loop (mean ± std. dev. of 7 runs, 100000 loops each)\n"
     ]
    }
   ],
   "source": [
    "%%timeit\n",
    "sqnumst.bubble_sort(nums)"
   ]
  },
  {
   "cell_type": "code",
   "execution_count": 9,
   "metadata": {},
   "outputs": [
    {
     "name": "stdout",
     "output_type": "stream",
     "text": [
      "1.15 µs ± 16.1 ns per loop (mean ± std. dev. of 7 runs, 1000000 loops each)\n"
     ]
    }
   ],
   "source": [
    "%%timeit\n",
    "sqnumst.bubble_sort_advance(nums)"
   ]
  },
  {
   "cell_type": "markdown",
   "metadata": {},
   "source": [
    "# 简单选择排序\n",
    "简单选择排序（simple selection sort）:时间复杂度O(n^2)\n",
    "\n",
    "通过n-i次关键字之间的比较，从n-i+1个记录中选出关键字最小的记录，并和第i（1<=i<=n)个记录进行交换。\n",
    "\n",
    "通俗的说就是，对尚未完成排序的所有元素，从头到尾比一遍，记录下最小的那个元素的下标，也就是该元素的位置。再把该元素交换到当前遍历的最前面。其效率之处在于，每一轮中比较了很多次，但只交换一次。因此虽然它的时间复杂度也是O(n^2)，但比冒泡算法还是要好一点。"
   ]
  },
  {
   "cell_type": "code",
   "execution_count": 17,
   "metadata": {},
   "outputs": [],
   "source": [
    "class SQList:\n",
    "    def select_sort(self, nums):\n",
    "        \"\"\"\n",
    "        简单选择排序，时间复杂度O(n^2)\n",
    "        \"\"\"\n",
    "        length = len(nums)\n",
    "        for i in range(length):\n",
    "            # After each loop, a^(i)[i] = min{a^(i)[i:]},\n",
    "            # where a^(i) is the array in the i-th loop\n",
    "            for j in range(i+1, length):\n",
    "                if nums[i] > nums[j]:\n",
    "                    nums[i], nums[j] = nums[j], nums[i]\n",
    "        return nums     \n",
    "sqnumst = SQList()\n",
    "nums = [4,1,7,3,8,5,9,2,6]"
   ]
  },
  {
   "cell_type": "code",
   "execution_count": 18,
   "metadata": {},
   "outputs": [
    {
     "name": "stdout",
     "output_type": "stream",
     "text": [
      "4.58 µs ± 123 ns per loop (mean ± std. dev. of 7 runs, 100000 loops each)\n"
     ]
    }
   ],
   "source": [
    "%%timeit\n",
    "sqnumst.select_sort(nums)"
   ]
  },
  {
   "cell_type": "markdown",
   "metadata": {},
   "source": [
    "# 直接插入排序\n",
    "直接插入排序（Straight Insertion Sort）:时间复杂度O(n^2)\n",
    "\n",
    "基本操作是将一个记录插入到已经排好序的有序表中，从而得到一个新的、记录数增1的有序表。"
   ]
  },
  {
   "cell_type": "code",
   "execution_count": null,
   "metadata": {},
   "outputs": [],
   "source": []
  }
 ],
 "metadata": {
  "hide_input": false,
  "kernelspec": {
   "display_name": "Python 3",
   "language": "python",
   "name": "python3"
  },
  "language_info": {
   "codemirror_mode": {
    "name": "ipython",
    "version": 3
   },
   "file_extension": ".py",
   "mimetype": "text/x-python",
   "name": "python",
   "nbconvert_exporter": "python",
   "pygments_lexer": "ipython3",
   "version": "3.6.7"
  },
  "latex_envs": {
   "LaTeX_envs_menu_present": true,
   "autoclose": false,
   "autocomplete": true,
   "bibliofile": "biblio.bib",
   "cite_by": "apalike",
   "current_citInitial": 1,
   "eqLabelWithNumbers": true,
   "eqNumInitial": 1,
   "hotkeys": {
    "equation": "Ctrl-E",
    "itemize": "Ctrl-I"
   },
   "labels_anchors": false,
   "latex_user_defs": false,
   "report_style_numbering": false,
   "user_envs_cfg": false
  },
  "toc": {
   "base_numbering": 1,
   "nav_menu": {},
   "number_sections": true,
   "sideBar": true,
   "skip_h1_title": false,
   "title_cell": "Table of Contents",
   "title_sidebar": "Contents",
   "toc_cell": false,
   "toc_position": {},
   "toc_section_display": true,
   "toc_window_display": false
  },
  "varInspector": {
   "cols": {
    "lenName": 16,
    "lenType": 16,
    "lenVar": 40
   },
   "kernels_config": {
    "python": {
     "delete_cmd_postfix": "",
     "delete_cmd_prefix": "del ",
     "library": "var_list.py",
     "varRefreshCmd": "print(var_dic_list())"
    },
    "r": {
     "delete_cmd_postfix": ") ",
     "delete_cmd_prefix": "rm(",
     "library": "var_list.r",
     "varRefreshCmd": "cat(var_dic_list()) "
    }
   },
   "types_to_exclude": [
    "module",
    "function",
    "builtin_function_or_method",
    "instance",
    "_Feature"
   ],
   "window_display": false
  }
 },
 "nbformat": 4,
 "nbformat_minor": 2
}
