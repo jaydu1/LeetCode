{
 "cells": [
  {
   "cell_type": "markdown",
   "metadata": {},
   "source": [
    "# 1. Two sum\n",
    "\n",
    "Given an array of integers, return **indices** of the two numbers such that they add up to a specific target.\n",
    "\n",
    "You may assume that each input would have ***exactly*** one solution, and you may not use the same element twice.\n",
    "\n",
    "\n",
    "**Example**:\n",
    "```\n",
    "Given nums = [2, 7, 11, 15], target = 9,\n",
    "\n",
    "Because nums[0] + nums[1] = 2 + 7 = 9,\n",
    "return [0, 1].\n",
    "```"
   ]
  },
  {
   "cell_type": "markdown",
   "metadata": {},
   "source": [
    "**Solution 1**\n",
    "\n",
    "算法复杂度\n",
    "\n",
    "最好情况：$O(1)$\n",
    "\n",
    "最坏情况：$O(n^2)$\n",
    "\n",
    "平均情况：$O(n^2)$"
   ]
  },
  {
   "cell_type": "code",
   "execution_count": null,
   "metadata": {},
   "outputs": [],
   "source": [
    "class Solution:\n",
    "    def twoSum(self, nums: 'List[int]', target: 'int') -> 'List[int]':\n",
    "        for i in range(len(nums)):\n",
    "            for j in range(i+1, len(nums)):\n",
    "                if nums[i]+nums[j]==target:\n",
    "                    return [i, j]"
   ]
  },
  {
   "cell_type": "markdown",
   "metadata": {},
   "source": [
    "Solution 2"
   ]
  },
  {
   "cell_type": "markdown",
   "metadata": {},
   "source": [
    "拓展：\n",
    "\n",
    "1. 找到数组中和为目标值的三个数的下标(easy)\n",
    "\n",
    "2. 假设数组已经是有序的，找到数组中和为目标值的两个数的下标(easy)\n",
    "\n",
    "3. 有两个数组，从两个数组中各选一个数，使其和为目标值，求两个数分别的下标(median)\n",
    "\n",
    "4. 找到数组中和为目标值的 k 个数的下标，数组长度<=20，1<=k<=20 (hard)\n",
    "\n",
    "5. 有 n 个数组，从 n 个数组中各选一个数，使他们的目标和为目标值，是否有合法解(median)"
   ]
  },
  {
   "cell_type": "markdown",
   "metadata": {},
   "source": [
    "# 31. Next Permutation (Medium)\n",
    "\n",
    "Implement next permutation, which rearranges numbers into the lexicographically next greater permutation of numbers.\n",
    "\n",
    "If such arrangement is not possible, it must rearrange it as the lowest possible order (ie, sorted in ascending order).\n",
    "\n",
    "The replacement must be in-place and use only constant extra memory.\n",
    "\n",
    "Here are some examples. Inputs are in the left-hand column and its corresponding outputs are in the right-hand column.\n",
    "\n",
    "    1,2,3 → 1,3,2\n",
    "    3,2,1 → 1,2,3\n",
    "    1,1,5 → 1,5,1\n",
    "\n"
   ]
  },
  {
   "cell_type": "code",
   "execution_count": null,
   "metadata": {},
   "outputs": [],
   "source": [
    "class Solution:\n",
    "    def nextPermutation(self, nums: List[int]) -> None:\n",
    "        \"\"\"\n",
    "        Do not return anything, modify nums in-place instead.\n",
    "        \"\"\"\n",
    "        \n",
    "        n = len(nums)\n",
    "        \n",
    "        # Example: 1···45321\n",
    "        # Find the first element to be move: 1···45321\n",
    "        #                                        ^\n",
    "        start = 0\n",
    "        for i in range(n-1, 0, -1):\n",
    "            if nums[i-1]<nums[i]:\n",
    "                start = i\n",
    "                break\n",
    "\n",
    "        if start>0:            \n",
    "            # Exchange: 1···45321 -> 1···54321\n",
    "            for end in range(n-1, start-1, -1):\n",
    "                if nums[end]>nums[start-1]:      \n",
    "                    nums[start-1], nums[end] = nums[end], nums[start-1]                    \n",
    "                    break\n",
    "\n",
    "        # Sort: 1···54321 -> 1···51234\n",
    "        i = start\n",
    "        while i < n-1-i+start:\n",
    "            nums[i], nums[n-1-i+start] = nums[n-1-i+start], nums[i]\n",
    "            i += 1"
   ]
  },
  {
   "cell_type": "markdown",
   "metadata": {},
   "source": [
    "# 64. Minimum Path Sum\n",
    "Given a *m x n* grid filled with non-negative numbers, find a path from top left to bottom right which *minimizes* the sum of all numbers along its path.\n",
    "\n",
    "**Note**: You can only move either down or right at any point in time.\n",
    "\n",
    "**Example**:\n",
    "\n",
    "    Input:\n",
    "    [[1,3,1],\n",
    "      [1,5,1],\n",
    "      [4,2,1]]\n",
    "    Output: 7\n",
    "    \n",
    "**Explanation**: Because the path 1→3→1→1→1 minimizes the sum."
   ]
  },
  {
   "cell_type": "markdown",
   "metadata": {},
   "source": [
    "**Solution 1**\n",
    "\n",
    "时间复杂度$O(mn)$\n",
    "\n",
    "动态规划，状态转移方程为$$dp[i][j]=\\min(dp[i-1][j], dp[i][j-1]) + grid[i][j]$$\n",
    "边界条件为$$dp[i][0]=\\sum\\limits_{k=0}^igrid[k][0]$$ $$dp[0][j]=\\sum\\limits_{k=0}^jgrid[0][j]$$"
   ]
  },
  {
   "cell_type": "code",
   "execution_count": null,
   "metadata": {},
   "outputs": [],
   "source": [
    "class Solution:\n",
    "    def minPathSum(self, grid: List[List[int]]) -> int:\n",
    "        m = len(grid)\n",
    "        n = len(grid[0])\n",
    "        \n",
    "        # Initializing empty matrix\n",
    "        dp = [[0]* n for _ in range(m)]\n",
    "        \n",
    "        # Initializing boundary conditions\n",
    "        dp[0][0] = grid[0][0]\n",
    "        for i in range(1,m):\n",
    "            dp[i][0] = dp[i-1][0] + grid[i][0]\n",
    "        for j in range(1,n):\n",
    "            dp[0][j] = dp[0][j-1] + grid[0][j]\n",
    "            \n",
    "        # Dynamic programming\n",
    "        for i in range(1, m):\n",
    "            for j in range(1, n): \n",
    "                dp[i][j] = min(dp[i-1][j], dp[i][j-1]) + grid[i][j]\n",
    "        return dp[m-1][n-1]"
   ]
  },
  {
   "cell_type": "markdown",
   "metadata": {},
   "source": [
    "拓展：\n",
    "\n",
    "1. 如果有一些格子不能走，求最小路径和(easy)\n",
    "2. 如果要求从起点走到终点再走回来，且除了起点和终点不能走相同的格子，求最小路径 和(median)\n",
    "3. 如果从起点走到终点再走回来，重复 k 次(保证存在合法路径)，除了起点和终点不能走 相 同的格子，最小路径和是多少(hard)\n",
    "4. 如果每一步可以走上下左右四个方向，最小路径和是多少(median)\n",
    "5. 如果每一步可以走上下左右四个方向，地图上有两个宝物点(不是起点终点)，要求从起点 出发，先拿到两个点的宝物，再到终点，路径上的最小和是多少(hard)"
   ]
  },
  {
   "cell_type": "markdown",
   "metadata": {},
   "source": [
    "# 238. Product of Array Except Self\n",
    "Given an array `nums` of *n* integers where *n* > 1,  return an array `output` such that `output[i]` is equal to the product of all the elements of `nums` except `nums[i]`.\n",
    "\n",
    "**Example**:\n",
    "\n",
    "    Input:  [1,2,3,4]\n",
    "    Output: [24,12,8,6]\n",
    "\n",
    "**Note**: Please solve it **without division** and in O(n).\n",
    "\n",
    "**Follow up**:\n",
    "Could you solve it with constant space complexity? (The output array **does not** count as extra space for the purpose of space complexity analysis.)"
   ]
  },
  {
   "cell_type": "markdown",
   "metadata": {},
   "source": [
    "**Solution 1**\n",
    "\n",
    "- 时间复杂度 $O(n)$\n",
    "- 空间复杂度 $O(n)$\n",
    "\n",
    "\n",
    "$\\forall\\ i_0\\in \\{0,1,\\cdots,\\text{len}(nums)-1\\}$, $num[i_0]=\\left(\\prod\\limits_{i=0}^{i_0-1}num[i] \\right)\\left(\\prod\\limits_{i=i_0+1}^{\\text{len}(nums)-1}num[i]\\right)$\n",
    "\n",
    "直接计算算法时间复杂度是$O(n^2)$，考虑到每一项都可以拆分为上式的形式，第一项是该项之前的每一项累乘，第二项是该项之后每一项的累乘。"
   ]
  },
  {
   "cell_type": "code",
   "execution_count": null,
   "metadata": {},
   "outputs": [],
   "source": [
    "class Solution:\n",
    "    def productExceptSelf(self, nums: List[int]) -> List[int]:\n",
    "        res = [1] * len(nums)\n",
    "        \n",
    "        # result[i] = (nums[0]*...*nums[i-1]) * (nums[i+1]*...*nums[len(nums)-1])\n",
    "        \n",
    "        # Calculate (nums[0]*...*nums[i-1])\n",
    "        p = 1\n",
    "        for i in range(len(nums)):\n",
    "            res[i] *= p\n",
    "            p *= nums[i]\n",
    "            \n",
    "        # Calculate (nums[i+1]*...*nums[len(nums)-1])\n",
    "        p = 1\n",
    "        for i in range(len(nums)-1, -1, -1):\n",
    "            res[i] *= p\n",
    "            p *= nums[i]\n",
    "        return res  "
   ]
  },
  {
   "cell_type": "markdown",
   "metadata": {},
   "source": [
    "扩展\n",
    "1.  一个数组，返回数组中每个数前一次出现的位置，如果不存在则返回-1(easy)\n",
    "2.  一个数组，已知其中有 n 对一样的数和一个单独的数，找出这个单独的数(easy)\n",
    "3.  一个数组，有 n 个询问，每个询问给出数组下标范围[i,j]，要求返回[i,j]之间所有数的乘积 (median) \n",
    "4.  一个数组，有 n 个询问，每个询问给出数组下标范围[i,j]，要求返回[i,j]之间所有数的乘积，不能使用除法(hard)"
   ]
  }
 ],
 "metadata": {
  "hide_input": false,
  "kernelspec": {
   "display_name": "Python 3",
   "language": "python",
   "name": "python3"
  },
  "language_info": {
   "codemirror_mode": {
    "name": "ipython",
    "version": 3
   },
   "file_extension": ".py",
   "mimetype": "text/x-python",
   "name": "python",
   "nbconvert_exporter": "python",
   "pygments_lexer": "ipython3",
   "version": "3.6.7"
  },
  "latex_envs": {
   "LaTeX_envs_menu_present": true,
   "autoclose": false,
   "autocomplete": true,
   "bibliofile": "biblio.bib",
   "cite_by": "apalike",
   "current_citInitial": 1,
   "eqLabelWithNumbers": true,
   "eqNumInitial": 1,
   "hotkeys": {
    "equation": "Ctrl-E",
    "itemize": "Ctrl-I"
   },
   "labels_anchors": false,
   "latex_user_defs": false,
   "report_style_numbering": false,
   "user_envs_cfg": false
  },
  "toc": {
   "base_numbering": 1,
   "nav_menu": {},
   "number_sections": true,
   "sideBar": true,
   "skip_h1_title": false,
   "title_cell": "Table of Contents",
   "title_sidebar": "Contents",
   "toc_cell": false,
   "toc_position": {},
   "toc_section_display": true,
   "toc_window_display": false
  },
  "varInspector": {
   "cols": {
    "lenName": 16,
    "lenType": 16,
    "lenVar": 40
   },
   "kernels_config": {
    "python": {
     "delete_cmd_postfix": "",
     "delete_cmd_prefix": "del ",
     "library": "var_list.py",
     "varRefreshCmd": "print(var_dic_list())"
    },
    "r": {
     "delete_cmd_postfix": ") ",
     "delete_cmd_prefix": "rm(",
     "library": "var_list.r",
     "varRefreshCmd": "cat(var_dic_list()) "
    }
   },
   "types_to_exclude": [
    "module",
    "function",
    "builtin_function_or_method",
    "instance",
    "_Feature"
   ],
   "window_display": false
  }
 },
 "nbformat": 4,
 "nbformat_minor": 2
}
