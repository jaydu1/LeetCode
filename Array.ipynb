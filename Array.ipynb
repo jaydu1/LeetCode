{
 "cells": [
  {
   "cell_type": "markdown",
   "metadata": {},
   "source": [
    "# 1. Two sum (Easy)\n",
    "\n",
    "https://leetcode.com/problems/two-sum/\n",
    "\n",
    "Given an array of integers, return **indices** of the two numbers such that they add up to a specific target.\n",
    "\n",
    "You may assume that each input would have ***exactly*** one solution, and you may not use the same element twice.\n",
    "\n",
    "\n",
    "**Example**:\n",
    "```\n",
    "Given nums = [2, 7, 11, 15], target = 9,\n",
    "\n",
    "Because nums[0] + nums[1] = 2 + 7 = 9,\n",
    "return [0, 1].\n",
    "```"
   ]
  },
  {
   "cell_type": "markdown",
   "metadata": {},
   "source": [
    "**Solution 1** Brute Force\n",
    "\n",
    "Complexity Analysis:\n",
    "\n",
    "Time complexity: 最好情况：$O(1)$,最坏情况：$O(n^2)$,平均情况：$O(n^2)$"
   ]
  },
  {
   "cell_type": "code",
   "execution_count": null,
   "metadata": {},
   "outputs": [],
   "source": [
    "class Solution:\n",
    "    def twoSum(self, nums: 'List[int]', target: 'int') -> 'List[int]':\n",
    "        for i in range(len(nums)):\n",
    "            for j in range(i+1, len(nums)):\n",
    "                if nums[i]+nums[j]==target:\n",
    "                    return [i, j]"
   ]
  },
  {
   "cell_type": "markdown",
   "metadata": {},
   "source": [
    "**Solution 2** Two-pass Hash Table"
   ]
  },
  {
   "cell_type": "code",
   "execution_count": null,
   "metadata": {},
   "outputs": [],
   "source": [
    "class Solution:    \n",
    "    def twoSum(self, nums: 'List[int]', target: 'int') -> 'List[int]':\n",
    "        d = {nums[i]:i for i in range(len(nums))}\n",
    "\n",
    "        for i in range(len(nums)):\n",
    "            if target-nums[i] in d.keys() and d[target-nums[i]]!=i:\n",
    "                return [i, d[target-nums[i]]]"
   ]
  },
  {
   "cell_type": "markdown",
   "metadata": {},
   "source": [
    "**Solution 3** One-pass Hash Table"
   ]
  },
  {
   "cell_type": "code",
   "execution_count": null,
   "metadata": {},
   "outputs": [],
   "source": [
    "class Solution:\n",
    "    def twoSum(self, nums: 'List[int]', target: 'int') -> 'List[int]':\n",
    "        d = {nums[0]:0}\n",
    "\n",
    "        for i in range(1, len(nums)):\n",
    "            if target-nums[i] in d.keys() and d[target-nums[i]]!=i:\n",
    "                return [d[target-nums[i]], i]\n",
    "            d[nums[i]] = i"
   ]
  },
  {
   "cell_type": "markdown",
   "metadata": {},
   "source": [
    "拓展：\n",
    "\n",
    "1. 找到数组中和为目标值的三个数的下标(easy) **15. 3Sum (Medium)**\n",
    "\n",
    "2. 假设数组已经是有序的，找到数组中和为目标值的两个数的下标(easy) **167. Two Sum II - Input array is sorted**\n",
    "\n",
    "3. 有两个数组，从两个数组中各选一个数，使其和为目标值，求两个数分别的下标(median)\n",
    "\n",
    "4. 找到数组中和为目标值的 k 个数的下标，数组长度<=20，1<=k<=20 (hard) **560. Subarray Sum Equals K**\n",
    "\n",
    "    def kSum(self, k, nums, target):\n",
    "        def findNsum(l, r, target, N, result, results):\n",
    "            if r-l+1 < N or N < 2 or target < nums[l]*N or target > nums[r]*N:  # early termination\n",
    "                return\n",
    "            if N == 2: # two pointers solve sorted 2-sum problem\n",
    "                while l < r:\n",
    "                    s = nums[l] + nums[r]\n",
    "                    if s == target:\n",
    "                        results.append(result + [nums[l], nums[r]])\n",
    "                        l += 1\n",
    "                        while l < r and nums[l] == nums[l-1]:\n",
    "                            l += 1\n",
    "                    elif s < target:\n",
    "                        l += 1\n",
    "                    else:\n",
    "                        r -= 1\n",
    "            else: # recursively reduce N\n",
    "                for i in range(l, r+1):\n",
    "                    if i == l or (i > l and nums[i-1] != nums[i]):\n",
    "                        findNsum(i+1, r, target-nums[i], N-1, result+[nums[i]], results)\n",
    "\n",
    "        nums.sort()\n",
    "        results = []\n",
    "        findNsum(0, len(nums)-1, target, k, [], results)\n",
    "        return results\n",
    "\n",
    "5. 有 n 个数组，从 n 个数组中各选一个数，使他们的目标和为目标值，是否有合法解(median) 分组01背包问题"
   ]
  },
  {
   "cell_type": "markdown",
   "metadata": {},
   "source": [
    "# 15. 3Sum (Medium)\n",
    "\n",
    "Given an array nums of *n* integers, are there elements *a, b, c* in `nums` such that *a + b + c = 0*? Find all unique triplets in the array which gives the sum of zero.\n",
    "\n",
    "**Note:**\n",
    "\n",
    "The solution set must not contain duplicate triplets.\n",
    "\n",
    "**Example:**\n",
    "\n",
    "    Given array nums = [-1, 0, 1, 2, -1, -4],\n",
    "\n",
    "    A solution set is:\n",
    "    [[-1, 0, 1],\n",
    "      [-1, -1, 2]]"
   ]
  },
  {
   "cell_type": "code",
   "execution_count": null,
   "metadata": {},
   "outputs": [],
   "source": [
    "class Solution(object):\n",
    "    def threeSum(self, nums):\n",
    "        res = []\n",
    "        nums.sort()\n",
    "        length = len(nums)\n",
    "        for i in range(length-2):\n",
    "            if nums[i] > 0:\n",
    "                break\n",
    "            if i > 0 and nums[i] == nums[i-1]:\n",
    "                continue\n",
    "\n",
    "            l, r = i+1, length-1\n",
    "            while l < r:\n",
    "                total = nums[i]+nums[l]+nums[r]\n",
    "\n",
    "                if total < 0:\n",
    "                    l += 1\n",
    "                elif total > 0:\n",
    "                    r -= 1\n",
    "                else:\n",
    "                    res.append([nums[i], nums[l], nums[r]])\n",
    "                    while l < r and nums[l] == nums[l+1]:\n",
    "                        l += 1\n",
    "                    while l < r and nums[r] == nums[r-1]:\n",
    "                        r -= 1\n",
    "                    l += 1\n",
    "                    r -= 1\n",
    "        return res"
   ]
  },
  {
   "cell_type": "markdown",
   "metadata": {},
   "source": [
    "# 31. Next Permutation (Medium)\n",
    "\n",
    "https://leetcode.com/problems/next-permutation/\n",
    "\n",
    "Implement next permutation, which rearranges numbers into the lexicographically next greater permutation of numbers.\n",
    "\n",
    "If such arrangement is not possible, it must rearrange it as the lowest possible order (ie, sorted in ascending order).\n",
    "\n",
    "The replacement must be in-place and use only constant extra memory.\n",
    "\n",
    "Here are some examples. Inputs are in the left-hand column and its corresponding outputs are in the right-hand column.\n",
    "\n",
    "    1,2,3 → 1,3,2\n",
    "    3,2,1 → 1,2,3\n",
    "    1,1,5 → 1,5,1\n",
    "\n"
   ]
  },
  {
   "cell_type": "code",
   "execution_count": null,
   "metadata": {},
   "outputs": [],
   "source": [
    "class Solution:\n",
    "    def nextPermutation(self, nums: List[int]) -> None:\n",
    "        \"\"\"\n",
    "        Do not return anything, modify nums in-place instead.\n",
    "        \"\"\"\n",
    "        \n",
    "        n = len(nums)\n",
    "        \n",
    "        # Example: 1···45321\n",
    "        # Find the first element to be move: 1···45321\n",
    "        #                                        ^\n",
    "        start = 0\n",
    "        for i in range(n-1, 0, -1):\n",
    "            if nums[i-1]<nums[i]:\n",
    "                start = i\n",
    "                break\n",
    "\n",
    "        if start>0:            \n",
    "            # Exchange: 1···45321 -> 1···54321\n",
    "            for end in range(n-1, start-1, -1):\n",
    "                if nums[end]>nums[start-1]:      \n",
    "                    nums[start-1], nums[end] = nums[end], nums[start-1]                    \n",
    "                    break\n",
    "\n",
    "        # Sort: 1···54321 -> 1···51234\n",
    "        i = start\n",
    "        while i < n-1-i+start:\n",
    "            nums[i], nums[n-1-i+start] = nums[n-1-i+start], nums[i]\n",
    "            i += 1"
   ]
  },
  {
   "cell_type": "markdown",
   "metadata": {},
   "source": [
    "**扩展**\n",
    "\n",
    "1. 输出当前排列的前一个排列。\n",
    "2. 给定六个字母排成一列，问相邻字母不相同的方案数。枚举全排列，把相邻字母相同的去掉。\n",
    "3. 2的进一步扩展，一个长为 1000 的小写字母字符串，问相邻字母不相同的方案数。dp[i][j]表示前i个字符，最后一个字符为j的合法方案数,$dp[i+1][j]=\\sum\\limits_{ k != j}(dp[i][k])$。"
   ]
  },
  {
   "cell_type": "markdown",
   "metadata": {},
   "source": [
    "# 64. Minimum Path Sum\n",
    "\n",
    "https://leetcode.com/problems/minimum-path-sum/\n",
    "\n",
    "Given a *m x n* grid filled with non-negative numbers, find a path from top left to bottom right which *minimizes* the sum of all numbers along its path.\n",
    "\n",
    "**Note**: You can only move either down or right at any point in time.\n",
    "\n",
    "**Example**:\n",
    "\n",
    "    Input:\n",
    "    [[1,3,1],\n",
    "      [1,5,1],\n",
    "      [4,2,1]]\n",
    "    Output: 7\n",
    "    \n",
    "**Explanation**: Because the path 1→3→1→1→1 minimizes the sum."
   ]
  },
  {
   "cell_type": "markdown",
   "metadata": {},
   "source": [
    "**Solution 1**\n",
    "\n",
    "时间复杂度$O(mn)$\n",
    "\n",
    "动态规划，状态转移方程为$$dp[i][j]=\\min(dp[i-1][j], dp[i][j-1]) + grid[i][j]$$\n",
    "边界条件为$$dp[i][0]=\\sum\\limits_{k=0}^igrid[k][0]$$ $$dp[0][j]=\\sum\\limits_{k=0}^jgrid[0][j]$$"
   ]
  },
  {
   "cell_type": "code",
   "execution_count": null,
   "metadata": {},
   "outputs": [],
   "source": [
    "class Solution:\n",
    "    def minPathSum(self, grid: List[List[int]]) -> int:\n",
    "        m = len(grid)\n",
    "        n = len(grid[0])\n",
    "        \n",
    "        # Initializing empty matrix\n",
    "        dp = [[0]* n for _ in range(m)]\n",
    "        \n",
    "        # Initializing boundary conditions\n",
    "        dp[0][0] = grid[0][0]\n",
    "        for i in range(1,m):\n",
    "            dp[i][0] = dp[i-1][0] + grid[i][0]\n",
    "        for j in range(1,n):\n",
    "            dp[0][j] = dp[0][j-1] + grid[0][j]\n",
    "            \n",
    "        # Dynamic programming\n",
    "        for i in range(1, m):\n",
    "            for j in range(1, n): \n",
    "                dp[i][j] = min(dp[i-1][j], dp[i][j-1]) + grid[i][j]\n",
    "        return dp[m-1][n-1]"
   ]
  },
  {
   "cell_type": "markdown",
   "metadata": {},
   "source": [
    "拓展：\n",
    "\n",
    "1. 如果有一些格子不能走，求最小路径和(easy) 动态规划\n",
    "2. 如果要求从起点走到终点再走回来，且除了起点和终点不能走相同的格子，求最小路径和(median)\n",
    "3. 如果从起点走到终点再走回来，重复 k 次(保证存在合法路径)，除了起点和终点不能走相同的格子，最小路径和是多少(hard) 最小费用最大流\n",
    "4. 如果每一步可以走上下左右四个方向，最小路径和是多少(median) 动态规划不满足后效性。直接建图用最短路\n",
    "5. 如果每一步可以走上下左右四个方向，地图上有两个宝物点(不是起点终点)，要求从起点出发，先拿到两个点的宝物，再到终点，路径上的最小和是多少(hard)"
   ]
  },
  {
   "cell_type": "markdown",
   "metadata": {},
   "source": [
    "# 153. Find Minimum in Rotated Sorted Array\n",
    "\n",
    "Suppose an array sorted in ascending order is rotated at some pivot unknown to you beforehand.\n",
    "\n",
    "(i.e.,  [0,1,2,4,5,6,7] might become  [4,5,6,7,0,1,2]).\n",
    "\n",
    "Find the minimum element.\n",
    "\n",
    "You may assume no duplicate exists in the array.\n",
    "\n",
    "**Example 1**:\n",
    "\n",
    "    Input: [3,4,5,1,2] \n",
    "    Output: 1\n",
    "**Example 2**:\n",
    "\n",
    "    Input: [4,5,6,7,0,1,2]\n",
    "    Output: 0\n"
   ]
  },
  {
   "cell_type": "code",
   "execution_count": null,
   "metadata": {},
   "outputs": [],
   "source": [
    "class Solution:\n",
    "    def findMin(self, nums: List[int]) -> int:\n",
    "        l = 0\n",
    "        r = len(nums)-1\n",
    "        \n",
    "        # Binary search\n",
    "        while nums[l]>nums[r] and l<=r:    \n",
    "            i = (l+r)//2\n",
    "             \n",
    "            if nums[i]<nums[l]:\n",
    "                r = i\n",
    "            else:\n",
    "                l = i+1        \n",
    "                \n",
    "        return nums[l]"
   ]
  },
  {
   "cell_type": "markdown",
   "metadata": {},
   "source": [
    "**扩展**\n",
    "\n",
    "1. 数组中存在重复值，求旋转数组的最小值\n",
    "2. 如果不旋转截断部分，求旋转数组最小值\n",
    "3. 一个已知先升序再降序排列的数组，求其最小值"
   ]
  },
  {
   "cell_type": "markdown",
   "metadata": {},
   "source": [
    "# 238. Product of Array Except Self\n",
    "\n",
    "https://leetcode.com/problems/product-of-array-except-self/\n",
    "\n",
    "Given an array `nums` of *n* integers where *n* > 1,  return an array `output` such that `output[i]` is equal to the product of all the elements of `nums` except `nums[i]`.\n",
    "\n",
    "**Example**:\n",
    "\n",
    "    Input:  [1,2,3,4]\n",
    "    Output: [24,12,8,6]\n",
    "\n",
    "**Note**: Please solve it **without division** and in O(n).\n",
    "\n",
    "**Follow up**:\n",
    "Could you solve it with constant space complexity? (The output array **does not** count as extra space for the purpose of space complexity analysis.)"
   ]
  },
  {
   "cell_type": "markdown",
   "metadata": {},
   "source": [
    "**Solution 1**\n",
    "\n",
    "- 时间复杂度 $O(n)$\n",
    "- 空间复杂度 $O(n)$\n",
    "\n",
    "\n",
    "$\\forall\\ i_0\\in \\{0,1,\\cdots,\\text{len}(nums)-1\\}$, $num[i_0]=\\left(\\prod\\limits_{i=0}^{i_0-1}num[i] \\right)\\left(\\prod\\limits_{i=i_0+1}^{\\text{len}(nums)-1}num[i]\\right)$\n",
    "\n",
    "直接计算算法时间复杂度是$O(n^2)$，考虑到每一项都可以拆分为上式的形式，第一项是该项之前的每一项累乘，第二项是该项之后每一项的累乘。"
   ]
  },
  {
   "cell_type": "code",
   "execution_count": null,
   "metadata": {},
   "outputs": [],
   "source": [
    "class Solution:\n",
    "    def productExceptSelf(self, nums: List[int]) -> List[int]:\n",
    "        res = [1] * len(nums)\n",
    "        \n",
    "        # result[i] = (nums[0]*...*nums[i-1]) * (nums[i+1]*...*nums[len(nums)-1])\n",
    "        \n",
    "        # Calculate (nums[0]*...*nums[i-1])\n",
    "        p = 1\n",
    "        for i in range(len(nums)):\n",
    "            res[i] *= p\n",
    "            p *= nums[i]\n",
    "            \n",
    "        # Calculate (nums[i+1]*...*nums[len(nums)-1])\n",
    "        p = 1\n",
    "        for i in range(len(nums)-1, -1, -1):\n",
    "            res[i] *= p\n",
    "            p *= nums[i]\n",
    "        return res  "
   ]
  },
  {
   "cell_type": "markdown",
   "metadata": {},
   "source": [
    "扩展\n",
    "1.  一个数组，返回数组中每个数前一次出现的位置，如果不存在则返回-1(easy)\n",
    "2.  一个数组，已知其中有 n 对一样的数和一个单独的数，找出这个单独的数(easy)\n",
    "3.  一个数组，有 n 个询问，每个询问给出数组下标范围[i,j]，要求返回[i,j]之间所有数的乘积 (median) $O(n)$\n",
    "4.  一个数组，有 n 个询问，每个询问给出数组下标范围[i,j]，要求返回[i,j]之间所有数的乘积，不能使用除法(hard) $O(n\\log n)$"
   ]
  },
  {
   "cell_type": "markdown",
   "metadata": {},
   "source": [
    "# 239. Sliding Window Maximum (Hard)\n",
    "\n",
    "https://leetcode.com/problems/sliding-window-maximum/\n",
    "\n",
    "Given an array nums, there is a sliding window of size k which is moving from the very left of the array to the very right. You can only see the k numbers in the window. Each time the sliding window moves right by one position. Return the max sliding window.\n",
    "\n",
    "**Example**:\n",
    "\n",
    "    Input: nums = [1,3,-1,-3,5,3,6,7], and k = 3\n",
    "    Output: [3,3,5,5,6,7] \n",
    "    Explanation: \n",
    "\n",
    "    Window position                Max\n",
    "    ---------------               -----\n",
    "    [1  3  -1] -3  5  3  6  7       3\n",
    "     1 [3  -1  -3] 5  3  6  7       3\n",
    "     1  3 [-1  -3  5] 3  6  7       5\n",
    "     1  3  -1 [-3  5  3] 6  7       5\n",
    "     1  3  -1  -3 [5  3  6] 7       6\n",
    "     1  3  -1  -3  5 [3  6  7]      7\n",
    "\n",
    "**Note**: \n",
    "You may assume k is always valid, 1 ≤ k ≤ input array's size for non-empty array.\n",
    "\n",
    "**Follow up**:\n",
    "\n",
    "Could you solve it in linear time?"
   ]
  },
  {
   "cell_type": "code",
   "execution_count": null,
   "metadata": {},
   "outputs": [],
   "source": [
    "class Solution:\n",
    "    def maxSlidingWindow(self, nums: List[int], k: int) -> List[int]:\n",
    "        # Deal with special cases\n",
    "        if len(nums)==0:\n",
    "            return []\n",
    "        elif len(nums)<k or k==1:\n",
    "            return nums\n",
    "        \n",
    "        # Create temperary list with length k \n",
    "        temp = nums[:k]\n",
    "        res = [max(temp)]\n",
    "        for i in range(k,len(nums)):\n",
    "            temp.pop(0)\n",
    "            temp.append(nums[i])            \n",
    "            res.append(max(temp))\n",
    "            \n",
    "        return res"
   ]
  },
  {
   "cell_type": "markdown",
   "metadata": {},
   "source": [
    "扩展\n",
    "\n",
    "1. 求每一轮候选框中数的方差。先把方差展开为$\\dfrac{1}{n}\\sum\\limits_{i=1}^n(x_i-\\overline{x})^2=\\dfrac{1}{n}\\sum\\limits_{i=1}^n x_i^2-\\overline{x}^2$，维护序列中数的平方和均值，可以直接推到下一个窗口的方差。\n",
    "2. 求最大数的同时求每一轮框中数的最小值。跑两次就好了。\n",
    "3. 当前每一轮候选框的首和尾都是往后移动一个距离，如果第 i 轮首尾分别向后移动 a[i] 和 b[i]的距离，每一轮的 max 是多少？还是单调队列，按题意进行维护就好"
   ]
  },
  {
   "cell_type": "markdown",
   "metadata": {},
   "source": [
    "# 494. Target Sum (Medium)\n",
    "\n",
    "https://leetcode.com/problems/target-sum/\n",
    "\n",
    "You are given a list of non-negative integers, a1, a2, ..., an, and a target, S. Now you have 2 symbols + and -. For each integer, you should choose one from + and - as its new symbol.\n",
    "\n",
    "Find out how many ways to assign symbols to make sum of integers equal to target S.\n",
    "\n",
    "**Example 1**:\n",
    "\n",
    "    Input: nums is [1, 1, 1, 1, 1], S is 3. \n",
    "    Output: 5\n",
    "    Explanation: \n",
    "\n",
    "    -1+1+1+1+1 = 3\n",
    "    +1-1+1+1+1 = 3\n",
    "    +1+1-1+1+1 = 3\n",
    "    +1+1+1-1+1 = 3\n",
    "    +1+1+1+1-1 = 3\n",
    "\n",
    "    There are 5 ways to assign symbols to make the sum of nums be target 3.\n",
    "\n",
    "**Note**:\n",
    "\n",
    "The length of the given array is positive and will not exceed 20.\n",
    "The sum of elements in the given array will not exceed 1000.\n",
    "Your output answer is guaranteed to be fitted in a 32-bit integer.\n"
   ]
  },
  {
   "cell_type": "code",
   "execution_count": null,
   "metadata": {},
   "outputs": [],
   "source": [
    "class Solution:\n",
    "    def findTargetSumWays(self, nums: List[int], S: int) -> int:\n",
    "        \n",
    "        res = 0\n",
    "        n = len(nums)\n",
    "        m = sum(nums)+1\n",
    "        S = abs(S)\n",
    "        \n",
    "        # Deal with special cases\n",
    "        if m-1<S:\n",
    "            return 0\n",
    "        \n",
    "        # Initialize empty matrix\n",
    "        dp = [[0]*m for _ in range(n)]\n",
    "        dp[0][nums[0]] = 1\n",
    "        dp[0][0] *= 2\n",
    "        \n",
    "        # Dynamic programming\n",
    "        for i in range(1,n):\n",
    "            for j in range(m):\n",
    "                if nums[i]==0:\n",
    "                    dp[i][j] += dp[i-1][j]*2\n",
    "                else:\n",
    "                    dp[i][j] += dp[i-1][abs(j-nums[i])]\n",
    "                    if j==0:\n",
    "                        dp[i][j]*=2\n",
    "                    elif j+nums[i]<m:\n",
    "                        dp[i][j] += dp[i-1][j+nums[i]]\n",
    "        return dp[n-1][S]"
   ]
  },
  {
   "cell_type": "markdown",
   "metadata": {},
   "source": [
    "扩展：\n",
    "\n",
    "1. 给定一个目标数 m(m<=target)，添加正负号，使总的 sum%m=target，问方案数。还是01背包，只是现在的m同时有多个都是可以的了，DP完最后的数组在多个位置累计答案\n",
    "2. 添加正负号和系数(系数为 1-3 之间的整数)，使总的 sum%m=target，问方案数。分组背包，每个数2个符号\\*3个系数=6种情况，就是有n组物品，每组物品有六个，每组只能选一个，达到target。\n",
    "3. 令 n 为偶数，现在将这 n 个数分为两组，上下排列成 2\\*n/2 的形式。需要你添加正负号，使上面的 sum=target1，下面的 sum=target2，注意，这两行需要使用同样的正负号方案，问可行的方案总数。两个背包的01背包，01背包的状态是dp[i][j]，这个背包的状态是dp[i][j][k]，表示前i个物品，第一个背包容量为j，第二个背包容量为k。"
   ]
  }
 ],
 "metadata": {
  "hide_input": false,
  "kernelspec": {
   "display_name": "Python 3",
   "language": "python",
   "name": "python3"
  },
  "language_info": {
   "codemirror_mode": {
    "name": "ipython",
    "version": 3
   },
   "file_extension": ".py",
   "mimetype": "text/x-python",
   "name": "python",
   "nbconvert_exporter": "python",
   "pygments_lexer": "ipython3",
   "version": "3.6.7"
  },
  "latex_envs": {
   "LaTeX_envs_menu_present": true,
   "autoclose": false,
   "autocomplete": true,
   "bibliofile": "biblio.bib",
   "cite_by": "apalike",
   "current_citInitial": 1,
   "eqLabelWithNumbers": true,
   "eqNumInitial": 1,
   "hotkeys": {
    "equation": "Ctrl-E",
    "itemize": "Ctrl-I"
   },
   "labels_anchors": false,
   "latex_user_defs": false,
   "report_style_numbering": false,
   "user_envs_cfg": false
  },
  "toc": {
   "base_numbering": 1,
   "nav_menu": {},
   "number_sections": true,
   "sideBar": true,
   "skip_h1_title": false,
   "title_cell": "Table of Contents",
   "title_sidebar": "Contents",
   "toc_cell": false,
   "toc_position": {},
   "toc_section_display": true,
   "toc_window_display": false
  },
  "varInspector": {
   "cols": {
    "lenName": 16,
    "lenType": 16,
    "lenVar": 40
   },
   "kernels_config": {
    "python": {
     "delete_cmd_postfix": "",
     "delete_cmd_prefix": "del ",
     "library": "var_list.py",
     "varRefreshCmd": "print(var_dic_list())"
    },
    "r": {
     "delete_cmd_postfix": ") ",
     "delete_cmd_prefix": "rm(",
     "library": "var_list.r",
     "varRefreshCmd": "cat(var_dic_list()) "
    }
   },
   "types_to_exclude": [
    "module",
    "function",
    "builtin_function_or_method",
    "instance",
    "_Feature"
   ],
   "window_display": false
  }
 },
 "nbformat": 4,
 "nbformat_minor": 2
}
