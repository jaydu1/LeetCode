{
 "cells": [
  {
   "cell_type": "markdown",
   "metadata": {},
   "source": [
    "# 1. Two sum\n",
    "\n",
    "Given an array of integers, return **indices** of the two numbers such that they add up to a specific target.\n",
    "\n",
    "You may assume that each input would have ***exactly*** one solution, and you may not use the same element twice.\n",
    "\n",
    "\n",
    "**Example**:\n",
    "```\n",
    "Given nums = [2, 7, 11, 15], target = 9,\n",
    "\n",
    "Because nums[0] + nums[1] = 2 + 7 = 9,\n",
    "return [0, 1].\n",
    "```"
   ]
  },
  {
   "cell_type": "markdown",
   "metadata": {},
   "source": [
    "**Solution 1**\n",
    "\n",
    "算法复杂度\n",
    "\n",
    "最好情况：$O(1)$\n",
    "\n",
    "最坏情况：$O(n^2)$\n",
    "\n",
    "平均情况：$O(n^2)$"
   ]
  },
  {
   "cell_type": "code",
   "execution_count": null,
   "metadata": {},
   "outputs": [],
   "source": [
    "class Solution:\n",
    "    def twoSum(self, nums: 'List[int]', target: 'int') -> 'List[int]':\n",
    "        for i in range(len(nums)):\n",
    "            for j in range(i+1, len(nums)):\n",
    "                if nums[i]+nums[j]==target:\n",
    "                    return [i, j]"
   ]
  },
  {
   "cell_type": "markdown",
   "metadata": {},
   "source": [
    "Solution 2"
   ]
  },
  {
   "cell_type": "markdown",
   "metadata": {},
   "source": [
    "# 64. Minimum Path Sum\n",
    "Given a *m x n* grid filled with non-negative numbers, find a path from top left to bottom right which *minimizes* the sum of all numbers along its path.\n",
    "\n",
    "**Note**: You can only move either down or right at any point in time.\n",
    "\n",
    "**Example**:\n",
    "\n",
    "    Input:\n",
    "    [[1,3,1],\n",
    "      [1,5,1],\n",
    "      [4,2,1]]\n",
    "    Output: 7\n",
    "    \n",
    "**Explanation**: Because the path 1→3→1→1→1 minimizes the sum."
   ]
  },
  {
   "cell_type": "markdown",
   "metadata": {},
   "source": [
    "**Solution 1**\n",
    "\n",
    "时间复杂度$O(mn)$\n",
    "\n",
    "动态规划，状态转移方程为$$dp[i][j]=\\min(dp[i-1][j], dp[i][j-1]) + grid[i][j]$$\n",
    "边界条件为$$dp[i][0]=\\sum\\limits_{k=0}^igrid[k][0]$$ $$dp[0][j]=\\sum\\limits_{k=0}^jgrid[0][j]$$"
   ]
  },
  {
   "cell_type": "code",
   "execution_count": null,
   "metadata": {},
   "outputs": [],
   "source": [
    "class Solution:\n",
    "    def minPathSum(self, grid: List[List[int]]) -> int:\n",
    "        m = len(grid)\n",
    "        n = len(grid[0])\n",
    "        \n",
    "        # Initializing empty matrix\n",
    "        dp = [[0]* n for _ in range(m)]\n",
    "        \n",
    "        # Initializing boundary conditions\n",
    "        dp[0][0] = grid[0][0]\n",
    "        for i in range(1,m):\n",
    "            dp[i][0] = dp[i-1][0] + grid[i][0]\n",
    "        for j in range(1,n):\n",
    "            dp[0][j] = dp[0][j-1] + grid[0][j]\n",
    "            \n",
    "        # Dynamic programming\n",
    "        for i in range(1, m):\n",
    "            for j in range(1, n): \n",
    "                dp[i][j] = min(dp[i-1][j], dp[i][j-1]) + grid[i][j]\n",
    "        return dp[m-1][n-1]"
   ]
  },
  {
   "cell_type": "markdown",
   "metadata": {},
   "source": [
    "# 238. Product of Array Except Self\n",
    "Given an array `nums` of *n* integers where *n* > 1,  return an array `output` such that `output[i]` is equal to the product of all the elements of `nums` except `nums[i]`.\n",
    "\n",
    "**Example**:\n",
    "\n",
    "    Input:  [1,2,3,4]\n",
    "    Output: [24,12,8,6]\n",
    "\n",
    "**Note**: Please solve it **without division** and in O(n).\n",
    "\n",
    "**Follow up**:\n",
    "Could you solve it with constant space complexity? (The output array **does not** count as extra space for the purpose of space complexity analysis.)"
   ]
  },
  {
   "cell_type": "markdown",
   "metadata": {},
   "source": [
    "**Solution 1**\n",
    "\n",
    "- 时间复杂度 $O(n)$\n",
    "- 空间复杂度 $O(n)$\n",
    "\n",
    "\n",
    "$\\forall\\ i_0\\in \\{0,1,\\cdots,\\text{len}(nums)-1\\}$, $num[i_0]=\\left(\\prod\\limits_{i=0}^{i_0-1}num[i] \\right)\\left(\\prod\\limits_{i=i_0+1}^{\\text{len}(nums)-1}num[i]\\right)$\n",
    "\n",
    "直接计算算法时间复杂度是$O(n^2)$，考虑到每一项都可以拆分为上式的形式，第一项是该项之前的每一项累乘，第二项是该项之后每一项的累乘。"
   ]
  },
  {
   "cell_type": "code",
   "execution_count": null,
   "metadata": {},
   "outputs": [],
   "source": [
    "class Solution:\n",
    "    def productExceptSelf(self, nums: List[int]) -> List[int]:\n",
    "        res = [1] * len(nums)\n",
    "        \n",
    "        # result[i] = (nums[0]*...*nums[i-1]) * (nums[i+1]*...*nums[len(nums)-1])\n",
    "        \n",
    "        # Calculate (nums[0]*...*nums[i-1])\n",
    "        p = 1\n",
    "        for i in range(len(nums)):\n",
    "            res[i] *= p\n",
    "            p *= nums[i]\n",
    "            \n",
    "        # Calculate (nums[i+1]*...*nums[len(nums)-1])\n",
    "        p = 1\n",
    "        for i in range(len(nums)-1, -1, -1):\n",
    "            res[i] *= p\n",
    "            p *= nums[i]\n",
    "        return res  "
   ]
  }
 ],
 "metadata": {
  "hide_input": false,
  "kernelspec": {
   "display_name": "Python 3",
   "language": "python",
   "name": "python3"
  },
  "language_info": {
   "codemirror_mode": {
    "name": "ipython",
    "version": 3
   },
   "file_extension": ".py",
   "mimetype": "text/x-python",
   "name": "python",
   "nbconvert_exporter": "python",
   "pygments_lexer": "ipython3",
   "version": "3.6.7"
  },
  "latex_envs": {
   "LaTeX_envs_menu_present": true,
   "autoclose": false,
   "autocomplete": true,
   "bibliofile": "biblio.bib",
   "cite_by": "apalike",
   "current_citInitial": 1,
   "eqLabelWithNumbers": true,
   "eqNumInitial": 1,
   "hotkeys": {
    "equation": "Ctrl-E",
    "itemize": "Ctrl-I"
   },
   "labels_anchors": false,
   "latex_user_defs": false,
   "report_style_numbering": false,
   "user_envs_cfg": false
  },
  "toc": {
   "base_numbering": 1,
   "nav_menu": {},
   "number_sections": true,
   "sideBar": true,
   "skip_h1_title": false,
   "title_cell": "Table of Contents",
   "title_sidebar": "Contents",
   "toc_cell": false,
   "toc_position": {},
   "toc_section_display": true,
   "toc_window_display": false
  },
  "varInspector": {
   "cols": {
    "lenName": 16,
    "lenType": 16,
    "lenVar": 40
   },
   "kernels_config": {
    "python": {
     "delete_cmd_postfix": "",
     "delete_cmd_prefix": "del ",
     "library": "var_list.py",
     "varRefreshCmd": "print(var_dic_list())"
    },
    "r": {
     "delete_cmd_postfix": ") ",
     "delete_cmd_prefix": "rm(",
     "library": "var_list.r",
     "varRefreshCmd": "cat(var_dic_list()) "
    }
   },
   "types_to_exclude": [
    "module",
    "function",
    "builtin_function_or_method",
    "instance",
    "_Feature"
   ],
   "window_display": false
  }
 },
 "nbformat": 4,
 "nbformat_minor": 2
}
